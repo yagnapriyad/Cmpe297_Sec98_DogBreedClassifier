{
  "nbformat": 4,
  "nbformat_minor": 0,
  "metadata": {
    "accelerator": "GPU",
    "colab": {
      "name": "Dog_Breed_Identification.ipynb",
      "provenance": [],
      "collapsed_sections": []
    },
    "kernelspec": {
      "name": "python3",
      "display_name": "Python 3"
    },
    "language_info": {
      "codemirror_mode": {
        "name": "ipython",
        "version": 3
      },
      "file_extension": ".py",
      "mimetype": "text/x-python",
      "name": "python",
      "nbconvert_exporter": "python",
      "pygments_lexer": "ipython3",
      "version": "3.7.4"
    }
  },
  "cells": [
    {
      "cell_type": "markdown",
      "metadata": {
        "colab_type": "text",
        "id": "t69p44_O4a2i"
      },
      "source": [
        "# Data Processing\n",
        "\n",
        "\n",
        "*   Dog Breed Dataset\n",
        "\n",
        "\n"
      ]
    },
    {
      "cell_type": "code",
      "metadata": {
        "colab_type": "code",
        "id": "B-KDmpKtu9Tz",
        "outputId": "93582cdc-dc32-4bc2-8974-67e53dac7e35",
        "colab": {
          "base_uri": "https://localhost:8080/",
          "height": 128
        }
      },
      "source": [
        "from google.colab import drive\n",
        "drive.mount('/content/drive')\n",
        "\n",
        "# Unzip training dataset\n",
        "#!unzip -uq '/content/drive/My Drive/Colab Notebooks/297-98_hw2/train.zip'\n"
      ],
      "execution_count": 1,
      "outputs": [
        {
          "output_type": "stream",
          "text": [
            "Go to this URL in a browser: https://accounts.google.com/o/oauth2/auth?client_id=947318989803-6bn6qk8qdgf4n4g3pfee6491hc0brc4i.apps.googleusercontent.com&redirect_uri=urn%3Aietf%3Awg%3Aoauth%3A2.0%3Aoob&scope=email%20https%3A%2F%2Fwww.googleapis.com%2Fauth%2Fdocs.test%20https%3A%2F%2Fwww.googleapis.com%2Fauth%2Fdrive%20https%3A%2F%2Fwww.googleapis.com%2Fauth%2Fdrive.photos.readonly%20https%3A%2F%2Fwww.googleapis.com%2Fauth%2Fpeopleapi.readonly&response_type=code\n",
            "\n",
            "Enter your authorization code:\n",
            "··········\n",
            "Mounted at /content/drive\n"
          ],
          "name": "stdout"
        }
      ]
    },
    {
      "cell_type": "code",
      "metadata": {
        "id": "HNmmVmj9GIn0",
        "colab_type": "code",
        "colab": {
          "base_uri": "https://localhost:8080/",
          "height": 65
        },
        "outputId": "2e4cecd4-80ea-4d65-9b74-2aedb34e0a74"
      },
      "source": [
        " #import all the packages\n",
        "\n",
        "\n",
        "%matplotlib inline\n",
        "import matplotlib.pyplot as plt\n",
        "\n",
        "import tensorflow as tf\n",
        "import numpy as np\n",
        "import pandas as pd\n",
        "\n",
        "import time\n",
        "from datetime import timedelta\n",
        "\n",
        "import math\n",
        "import os\n",
        "\n",
        "import scipy.misc\n",
        "from scipy.stats import itemfreq\n",
        "from random import sample\n",
        "import pickle\n",
        "\n",
        "from sklearn.metrics import confusion_matrix\n",
        "from sklearn.model_selection import train_test_split\n",
        "\n",
        "# Image manipulation\n",
        "import PIL.Image\n",
        "from IPython.display import display\n",
        "\n",
        "# Open a Zip File\n",
        "from zipfile import ZipFile\n",
        "from io import BytesIO"
      ],
      "execution_count": 2,
      "outputs": [
        {
          "output_type": "display_data",
          "data": {
            "text/html": [
              "<p style=\"color: red;\">\n",
              "The default version of TensorFlow in Colab will soon switch to TensorFlow 2.x.<br>\n",
              "We recommend you <a href=\"https://www.tensorflow.org/guide/migrate\" target=\"_blank\">upgrade</a> now \n",
              "or ensure your notebook will continue to use TensorFlow 1.x via the <code>%tensorflow_version 1.x</code> magic:\n",
              "<a href=\"https://colab.research.google.com/notebooks/tensorflow_version.ipynb\" target=\"_blank\">more info</a>.</p>\n"
            ],
            "text/plain": [
              "<IPython.core.display.HTML object>"
            ]
          },
          "metadata": {
            "tags": []
          }
        }
      ]
    },
    {
      "cell_type": "code",
      "metadata": {
        "id": "gw8Vi6YzGMuV",
        "colab_type": "code",
        "outputId": "a222af81-3421-4e61-c785-429d29f0aac5",
        "colab": {
          "base_uri": "https://localhost:8080/",
          "height": 35
        }
      },
      "source": [
        "#Unzip Files\n",
        "\n",
        "\n",
        "# We unzip the train and test zip file\n",
        "archive_train = ZipFile('/content/drive/My Drive/CMPE297_Sec98_EmergyingTechnologies/train.zip','r')\n",
        "\n",
        "archive_test = ZipFile('/content/drive/My Drive/CMPE297_Sec98_EmergyingTechnologies/test.zip', 'r')\n",
        "\n",
        "# This line shows the 5 first image name of the train database\n",
        "archive_train.namelist()[0:5]\n",
        "\n",
        "# This line shows the number of images in the train database, noted that we must remove the 1st value (column header)\n",
        "len(archive_train.namelist()[:]) - 1"
      ],
      "execution_count": 3,
      "outputs": [
        {
          "output_type": "execute_result",
          "data": {
            "text/plain": [
              "10222"
            ]
          },
          "metadata": {
            "tags": []
          },
          "execution_count": 3
        }
      ]
    },
    {
      "cell_type": "code",
      "metadata": {
        "id": "lwxhtoLOIKDB",
        "colab_type": "code",
        "colab": {}
      },
      "source": [
        "#Resize and normalize data#\n",
        "\n",
        "\n",
        "# This function help to create  a pickle file gathering all the image from a zip folder\n",
        "def DataBase_creator(archivezip, nwidth, nheight, save_name):\n",
        "    # We choose the archive (zip file) + the new width and height for all the image which will be reshaped\n",
        "    \n",
        "    # Start-time used for printing time-usage below.\n",
        "    start_time = time.time()\n",
        "    \n",
        "    # nwidth x nheight = number of features because images have nwidth x nheight pixels\n",
        "    s = (len(archivezip.namelist()[:])-1, nwidth, nheight,3)\n",
        "    allImage = np.zeros(s)\n",
        "    for i in range(1,len(archivezip.namelist()[:])):\n",
        "        filename = BytesIO(archivezip.read(archivezip.namelist()[i]))\n",
        "        image = PIL.Image.open(filename) # open colour image\n",
        "        image = image.resize((nwidth, nheight))\n",
        "        image = np.array(image)\n",
        "        image = np.clip(image/255.0, 0.0, 1.0) # 255 = max of the value of a pixel\n",
        "        allImage[i-1]=image\n",
        "    \n",
        "    # we save the newly created data base\n",
        "    pickle.dump(allImage, open( save_name + '.p', \"wb\" ) )\n",
        "    \n",
        "    # Ending time.\n",
        "    end_time = time.time()\n",
        "    # Difference between start and end-times.\n",
        "    time_dif = end_time - start_time\n",
        "    # Print the time-usage.\n",
        "    print(\"Time usage: \" + str(timedelta(seconds=int(round(time_dif)))))"
      ],
      "execution_count": 0,
      "outputs": []
    },
    {
      "cell_type": "code",
      "metadata": {
        "id": "mZQMkLNvPpBK",
        "colab_type": "code",
        "outputId": "9ece8033-d4c5-4d82-d68d-281e966eff7c",
        "colab": {
          "base_uri": "https://localhost:8080/",
          "height": 35
        }
      },
      "source": [
        "# the new image size applied for all images and call the function above\n",
        "image_resize = 60\n",
        "\n",
        "DataBase_creator(archivezip = archive_train, nwidth = image_resize, nheight = image_resize , save_name = \"/content/drive/My Drive/CMPE297_Sec98_EmergyingTechnologies/train\")\n"
      ],
      "execution_count": 5,
      "outputs": [
        {
          "output_type": "stream",
          "text": [
            "Time usage: 0:00:58\n"
          ],
          "name": "stdout"
        }
      ]
    },
    {
      "cell_type": "code",
      "metadata": {
        "id": "j3XY_1MVP6X2",
        "colab_type": "code",
        "outputId": "667525ad-40f5-4e06-9c48-25b8efd65e97",
        "colab": {
          "base_uri": "https://localhost:8080/",
          "height": 35
        }
      },
      "source": [
        "DataBase_creator(archivezip = archive_test, nwidth = image_resize, nheight = image_resize , save_name = \"/content/drive/My Drive/CMPE297_Sec98_EmergyingTechnologies/test\")"
      ],
      "execution_count": 6,
      "outputs": [
        {
          "output_type": "stream",
          "text": [
            "Time usage: 0:01:21\n"
          ],
          "name": "stdout"
        }
      ]
    },
    {
      "cell_type": "code",
      "metadata": {
        "id": "t2coLWgiQ1yO",
        "colab_type": "code",
        "outputId": "d8c4d944-bc59-404d-8dfb-b4339a39c497",
        "colab": {
          "base_uri": "https://localhost:8080/",
          "height": 35
        }
      },
      "source": [
        "# load TRAIN ###shape of the training data should be (10222, 60, 60, 3).\n",
        "\n",
        "train = pickle.load( open( \"/content/drive/My Drive/CMPE297_Sec98_EmergyingTechnologies/train.p\", \"rb\" ) )\n",
        "\n",
        "train.shape"
      ],
      "execution_count": 7,
      "outputs": [
        {
          "output_type": "execute_result",
          "data": {
            "text/plain": [
              "(10222, 60, 60, 3)"
            ]
          },
          "metadata": {
            "tags": []
          },
          "execution_count": 7
        }
      ]
    },
    {
      "cell_type": "code",
      "metadata": {
        "id": "YKWpr0OoQ39h",
        "colab_type": "code",
        "outputId": "128f67a9-3a9c-44a9-b0ba-f77b400fe562",
        "colab": {
          "base_uri": "https://localhost:8080/",
          "height": 35
        }
      },
      "source": [
        "# load TEST ## shape of the training data should be (10222, 60, 60, 3)\n",
        "\n",
        "test = pickle.load( open( \"/content/drive/My Drive/CMPE297_Sec98_EmergyingTechnologies/test.p\", \"rb\" ) )\n",
        "\n",
        "test.shape"
      ],
      "execution_count": 8,
      "outputs": [
        {
          "output_type": "execute_result",
          "data": {
            "text/plain": [
              "(10357, 60, 60, 3)"
            ]
          },
          "metadata": {
            "tags": []
          },
          "execution_count": 8
        }
      ]
    },
    {
      "cell_type": "code",
      "metadata": {
        "id": "N0GSqBE_RUAz",
        "colab_type": "code",
        "outputId": "d6f7039e-febf-4b9a-a382-08730ed5514b",
        "colab": {
          "base_uri": "https://localhost:8080/",
          "height": 134
        }
      },
      "source": [
        "image_resize = 60\n",
        "nwidth = image_resize\n",
        "nheight = image_resize\n",
        "\n",
        "# nwidth x nheight = number of features because images are nwidth x nheight pixels\n",
        "s = (len(df_train[‘breed’]), nwidth, nheight,3) \n",
        "allImage = np.zeros(s)\n",
        "\n",
        "i = 0\n",
        "for f, breed in df_train.values:\n",
        "    image = PIL.Image.open('/content/drive/My Drive/CMPE297_Sec98_EmergyingTechnologies/train/{}.jpg'.format(f))\n",
        "    image = image.resize((nwidth, nheight))\n",
        "    image = np.array(image)\n",
        "    image = np.clip(image/255.0, 0.0, 1.0) # 255 = max of the value of a pixel\n",
        "    i += 1\n",
        "    allImage[i-1]=image\n",
        "\n",
        "    train = allImage"
      ],
      "execution_count": 11,
      "outputs": [
        {
          "output_type": "error",
          "ename": "SyntaxError",
          "evalue": "ignored",
          "traceback": [
            "\u001b[0;36m  File \u001b[0;32m\"<ipython-input-11-ad5338290236>\"\u001b[0;36m, line \u001b[0;32m6\u001b[0m\n\u001b[0;31m    s = (len(df_train[‘breed’]), nwidth, nheight,3)\u001b[0m\n\u001b[0m                            ^\u001b[0m\n\u001b[0;31mSyntaxError\u001b[0m\u001b[0;31m:\u001b[0m invalid character in identifier\n"
          ]
        }
      ]
    },
    {
      "cell_type": "code",
      "metadata": {
        "id": "wzvN402hRWFe",
        "colab_type": "code",
        "outputId": "6ad4a58b-d02a-4474-f3e4-113b705fd901",
        "colab": {
          "base_uri": "https://localhost:8080/",
          "height": 268
        }
      },
      "source": [
        "lum_img = train[100,:,:,:]\n",
        "plt.imshow(lum_img)\n",
        "plt.show()"
      ],
      "execution_count": 12,
      "outputs": [
        {
          "output_type": "display_data",
          "data": {
            "image/png": "[encoded data removed]",
            "text/plain": [
              "<Figure size 432x288 with 1 Axes>"
            ]
          },
          "metadata": {
            "tags": []
          }
        }
      ]
    },
    {
      "cell_type": "code",
      "metadata": {
        "id": "UM7Q8u2tR1jo",
        "colab_type": "code",
        "outputId": "309f11de-ca5b-4c0e-f4a5-4a25bc5b6ee9",
        "colab": {
          "base_uri": "https://localhost:8080/",
          "height": 206
        }
      },
      "source": [
        "#Check out labels file\n",
        "\n",
        "labels_raw = pd.read_csv(\"/content/drive/My Drive/CMPE297_Sec98_EmergyingTechnologies/labels.csv\", header=0, sep=',', quotechar='\"')\n",
        "labels_raw.sample(5)"
      ],
      "execution_count": 13,
      "outputs": [
        {
          "output_type": "execute_result",
          "data": {
            "text/html": [
              "<div>\n",
              "<style scoped>\n",
              "    .dataframe tbody tr th:only-of-type {\n",
              "        vertical-align: middle;\n",
              "    }\n",
              "\n",
              "    .dataframe tbody tr th {\n",
              "        vertical-align: top;\n",
              "    }\n",
              "\n",
              "    .dataframe thead th {\n",
              "        text-align: right;\n",
              "    }\n",
              "</style>\n",
              "<table border=\"1\" class=\"dataframe\">\n",
              "  <thead>\n",
              "    <tr style=\"text-align: right;\">\n",
              "      <th></th>\n",
              "      <th>id</th>\n",
              "      <th>breed</th>\n",
              "    </tr>\n",
              "  </thead>\n",
              "  <tbody>\n",
              "    <tr>\n",
              "      <th>10126</th>\n",
              "      <td>fd8d47a35e1c84795b4a2a27b761eb7b</td>\n",
              "      <td>tibetan_mastiff</td>\n",
              "    </tr>\n",
              "    <tr>\n",
              "      <th>2626</th>\n",
              "      <td>41113b0069d1ed9cb8ee0f5ca4cc6368</td>\n",
              "      <td>staffordshire_bullterrier</td>\n",
              "    </tr>\n",
              "    <tr>\n",
              "      <th>6570</th>\n",
              "      <td>a55afed96114f7dcc48ee9ed9731f7da</td>\n",
              "      <td>boston_bull</td>\n",
              "    </tr>\n",
              "    <tr>\n",
              "      <th>6643</th>\n",
              "      <td>a6d97d2087ad8627c78f88f619b91a92</td>\n",
              "      <td>schipperke</td>\n",
              "    </tr>\n",
              "    <tr>\n",
              "      <th>1383</th>\n",
              "      <td>21ef8a9ce6af47485e7f8ef45d1977d1</td>\n",
              "      <td>miniature_pinscher</td>\n",
              "    </tr>\n",
              "  </tbody>\n",
              "</table>\n",
              "</div>"
            ],
            "text/plain": [
              "                                     id                      breed\n",
              "10126  fd8d47a35e1c84795b4a2a27b761eb7b            tibetan_mastiff\n",
              "2626   41113b0069d1ed9cb8ee0f5ca4cc6368  staffordshire_bullterrier\n",
              "6570   a55afed96114f7dcc48ee9ed9731f7da                boston_bull\n",
              "6643   a6d97d2087ad8627c78f88f619b91a92                 schipperke\n",
              "1383   21ef8a9ce6af47485e7f8ef45d1977d1         miniature_pinscher"
            ]
          },
          "metadata": {
            "tags": []
          },
          "execution_count": 13
        }
      ]
    },
    {
      "cell_type": "code",
      "metadata": {
        "id": "O662D2caR-D8",
        "colab_type": "code",
        "outputId": "511b1ffd-760d-4b28-ab8d-0f895b8b51e0",
        "colab": {
          "base_uri": "https://localhost:8080/",
          "height": 144
        }
      },
      "source": [
        "#Extract the most represented breeds\n",
        "\n",
        "Nber_of_breeds = 8\n",
        "\n",
        "# Get the N most represented breeds\n",
        "def main_breeds(labels_raw, Nber_breeds , all_breeds='TRUE'):\n",
        "    labels_freq_pd = itemfreq(labels_raw[\"breed\"])\n",
        "    labels_freq_pd = labels_freq_pd[labels_freq_pd[:, 1].argsort()[::-1]]\n",
        "    \n",
        "    if all_breeds == 'FALSE':\n",
        "        main_labels = labels_freq_pd[:,0][0:Nber_breeds]\n",
        "    else: \n",
        "        main_labels = labels_freq_pd[:,0][:]\n",
        "        \n",
        "    labels_raw_np = labels_raw[\"breed\"].as_matrix()\n",
        "    labels_raw_np = labels_raw_np.reshape(labels_raw_np.shape[0],1)\n",
        "    labels_filtered_index = np.where(labels_raw_np == main_labels)\n",
        "    return labels_filtered_index\n",
        "\n",
        "labels_filtered_index = main_breeds(labels_raw = labels_raw, Nber_breeds = Nber_of_breeds, all_breeds='FALSE')\n",
        "labels_filtered = labels_raw.iloc[labels_filtered_index[0],:]\n",
        "train_filtered = train[labels_filtered_index[0],:,:,:]\n",
        "print('- Number of images remaining after selecting the {0} main breeds : {1}'.format(Nber_of_breeds, labels_filtered_index[0].shape))\n",
        "print('- The shape of train_filtered dataset is : {0}'.format(train_filtered.shape))"
      ],
      "execution_count": 14,
      "outputs": [
        {
          "output_type": "stream",
          "text": [
            "- Number of images remaining after selecting the 8 main breeds : (922,)\n",
            "- The shape of train_filtered dataset is : (922, 60, 60, 3)\n"
          ],
          "name": "stdout"
        },
        {
          "output_type": "stream",
          "text": [
            "/usr/local/lib/python3.6/dist-packages/ipykernel_launcher.py:6: DeprecationWarning: `itemfreq` is deprecated!\n",
            "`itemfreq` is deprecated and will be removed in a future version. Use instead `np.unique(..., return_counts=True)`\n",
            "  \n",
            "/usr/local/lib/python3.6/dist-packages/ipykernel_launcher.py:14: FutureWarning: Method .as_matrix will be removed in a future version. Use .values instead.\n",
            "  \n"
          ],
          "name": "stderr"
        }
      ]
    },
    {
      "cell_type": "code",
      "metadata": {
        "id": "qYD8dD1cSYfZ",
        "colab_type": "code",
        "outputId": "c563891c-d108-4026-cb0c-4e91afbd5fec",
        "colab": {
          "base_uri": "https://localhost:8080/",
          "height": 268
        }
      },
      "source": [
        "lum_img = train_filtered[1,:,:,:]\n",
        "plt.imshow(lum_img)\n",
        "plt.show()"
      ],
      "execution_count": 15,
      "outputs": [
        {
          "output_type": "display_data",
          "data": {
            "image/png": "[encoded data removed]",
            "text/plain": [
              "<Figure size 432x288 with 1 Axes>"
            ]
          },
          "metadata": {
            "tags": []
          }
        }
      ]
    },
    {
      "cell_type": "code",
      "metadata": {
        "id": "SU50SkYsSbce",
        "colab_type": "code",
        "colab": {}
      },
      "source": [
        "#One-Hot Labels"
      ],
      "execution_count": 0,
      "outputs": []
    },
    {
      "cell_type": "code",
      "metadata": {
        "id": "9N2WvK-8Sd4_",
        "colab_type": "code",
        "outputId": "53f95f9f-158d-4474-bbba-3436722f37b0",
        "colab": {
          "base_uri": "https://localhost:8080/",
          "height": 72
        }
      },
      "source": [
        "# We select the labels from the N main breeds\n",
        "labels = labels_filtered[\"breed\"].as_matrix()\n",
        "labels = labels.reshape(labels.shape[0],1) #labels.shape[0] looks faster than using len(labels)\n",
        "labels.shape"
      ],
      "execution_count": 17,
      "outputs": [
        {
          "output_type": "stream",
          "text": [
            "/usr/local/lib/python3.6/dist-packages/ipykernel_launcher.py:1: FutureWarning: Method .as_matrix will be removed in a future version. Use .values instead.\n",
            "  \"\"\"Entry point for launching an IPython kernel.\n"
          ],
          "name": "stderr"
        },
        {
          "output_type": "execute_result",
          "data": {
            "text/plain": [
              "(922, 1)"
            ]
          },
          "metadata": {
            "tags": []
          },
          "execution_count": 17
        }
      ]
    },
    {
      "cell_type": "code",
      "metadata": {
        "id": "gYfdtA-bSf5g",
        "colab_type": "code",
        "colab": {}
      },
      "source": [
        "# Function to create one-hot labels\n",
        "def matrix_Bin(labels):\n",
        "    labels_bin=np.array([])\n",
        "\n",
        "    labels_name, labels0 = np.unique(labels, return_inverse=True)\n",
        "    labels0\n",
        "    \n",
        "    for _, i in enumerate(itemfreq(labels0)[:,0].astype(int)):\n",
        "        labels_bin0 = np.where(labels0 == itemfreq(labels0)[:,0][i], 1., 0.)\n",
        "        labels_bin0 = labels_bin0.reshape(1,labels_bin0.shape[0])\n",
        "\n",
        "        if (labels_bin.shape[0] == 0):\n",
        "            labels_bin = labels_bin0\n",
        "        else:\n",
        "            labels_bin = np.concatenate((labels_bin,labels_bin0 ),axis=0)\n",
        "\n",
        "    print(\"Nber SubVariables {0}\".format(itemfreq(labels0)[:,0].shape[0]))\n",
        "    labels_bin = labels_bin.transpose()\n",
        "    print(\"Shape : {0}\".format(labels_bin.shape))\n",
        "    \n",
        "    return labels_name, labels_bin"
      ],
      "execution_count": 0,
      "outputs": []
    },
    {
      "cell_type": "code",
      "metadata": {
        "id": "ZhFBqHS0Siwn",
        "colab_type": "code",
        "outputId": "1bdb4653-94ff-4e36-af28-4b75f95681f2",
        "colab": {
          "base_uri": "https://localhost:8080/",
          "height": 380
        }
      },
      "source": [
        "labels_name, labels_bin = matrix_Bin(labels = labels)\n",
        "labels_bin[0:9]"
      ],
      "execution_count": 19,
      "outputs": [
        {
          "output_type": "stream",
          "text": [
            "Nber SubVariables 8\n",
            "Shape : (922, 8)\n"
          ],
          "name": "stdout"
        },
        {
          "output_type": "stream",
          "text": [
            "/usr/local/lib/python3.6/dist-packages/ipykernel_launcher.py:7: DeprecationWarning: `itemfreq` is deprecated!\n",
            "`itemfreq` is deprecated and will be removed in a future version. Use instead `np.unique(..., return_counts=True)`\n",
            "  import sys\n",
            "/usr/local/lib/python3.6/dist-packages/ipykernel_launcher.py:8: DeprecationWarning: `itemfreq` is deprecated!\n",
            "`itemfreq` is deprecated and will be removed in a future version. Use instead `np.unique(..., return_counts=True)`\n",
            "  \n",
            "/usr/local/lib/python3.6/dist-packages/ipykernel_launcher.py:16: DeprecationWarning: `itemfreq` is deprecated!\n",
            "`itemfreq` is deprecated and will be removed in a future version. Use instead `np.unique(..., return_counts=True)`\n",
            "  app.launch_new_instance()\n"
          ],
          "name": "stderr"
        },
        {
          "output_type": "execute_result",
          "data": {
            "text/plain": [
              "array([[0., 0., 0., 0., 0., 0., 1., 0.],\n",
              "       [0., 0., 0., 0., 1., 0., 0., 0.],\n",
              "       [0., 0., 0., 0., 0., 0., 0., 1.],\n",
              "       [0., 0., 0., 0., 0., 0., 1., 0.],\n",
              "       [0., 0., 1., 0., 0., 0., 0., 0.],\n",
              "       [0., 0., 1., 0., 0., 0., 0., 0.],\n",
              "       [0., 0., 0., 0., 1., 0., 0., 0.],\n",
              "       [0., 1., 0., 0., 0., 0., 0., 0.],\n",
              "       [0., 0., 1., 0., 0., 0., 0., 0.]])"
            ]
          },
          "metadata": {
            "tags": []
          },
          "execution_count": 19
        }
      ]
    },
    {
      "cell_type": "code",
      "metadata": {
        "id": "ydWjF4bCSnax",
        "colab_type": "code",
        "colab": {}
      },
      "source": [
        "#Quick check on labels#"
      ],
      "execution_count": 0,
      "outputs": []
    },
    {
      "cell_type": "code",
      "metadata": {
        "id": "HerU6TKZSuUU",
        "colab_type": "code",
        "outputId": "dfaf52e7-518a-4b89-f4d0-0d5f613d708b",
        "colab": {
          "base_uri": "https://localhost:8080/",
          "height": 162
        }
      },
      "source": [
        "for breed in range(len(labels_name)):\n",
        "   print('Breed {0} : {1}'.format(breed,labels_name[breed]))"
      ],
      "execution_count": 21,
      "outputs": [
        {
          "output_type": "stream",
          "text": [
            "Breed 0 : afghan_hound\n",
            "Breed 1 : bernese_mountain_dog\n",
            "Breed 2 : entlebucher\n",
            "Breed 3 : great_pyrenees\n",
            "Breed 4 : maltese_dog\n",
            "Breed 5 : pomeranian\n",
            "Breed 6 : scottish_deerhound\n",
            "Breed 7 : shih-tzu\n"
          ],
          "name": "stdout"
        }
      ]
    },
    {
      "cell_type": "code",
      "metadata": {
        "id": "0XK-uuU9SvJ5",
        "colab_type": "code",
        "outputId": "567a1c41-9d47-488a-fcf5-dd908a72d4f0",
        "colab": {
          "base_uri": "https://localhost:8080/",
          "height": 181
        }
      },
      "source": [
        "labels_cls = np.argmax(labels_bin, axis=1)\n",
        "labels[0:9]"
      ],
      "execution_count": 22,
      "outputs": [
        {
          "output_type": "execute_result",
          "data": {
            "text/plain": [
              "array([['scottish_deerhound'],\n",
              "       ['maltese_dog'],\n",
              "       ['shih-tzu'],\n",
              "       ['scottish_deerhound'],\n",
              "       ['entlebucher'],\n",
              "       ['entlebucher'],\n",
              "       ['maltese_dog'],\n",
              "       ['bernese_mountain_dog'],\n",
              "       ['entlebucher']], dtype=object)"
            ]
          },
          "metadata": {
            "tags": []
          },
          "execution_count": 22
        }
      ]
    },
    {
      "cell_type": "markdown",
      "metadata": {
        "id": "KEituNqsS0b3",
        "colab_type": "text"
      },
      "source": [
        "Convolutional Neural Networks"
      ]
    },
    {
      "cell_type": "code",
      "metadata": {
        "id": "8xPWPWvvS15B",
        "colab_type": "code",
        "colab": {}
      },
      "source": [
        "#Creation of a Train and Validation Data"
      ],
      "execution_count": 0,
      "outputs": []
    },
    {
      "cell_type": "code",
      "metadata": {
        "id": "I-BMKIDmS48J",
        "colab_type": "code",
        "colab": {}
      },
      "source": [
        "num_validation = 0.30\n",
        "X_train, X_validation, y_train, y_validation = train_test_split(train_filtered, labels_bin, test_size=num_validation, random_state=6)"
      ],
      "execution_count": 0,
      "outputs": []
    },
    {
      "cell_type": "code",
      "metadata": {
        "id": "PdGASoC_TIhj",
        "colab_type": "code",
        "colab": {}
      },
      "source": [
        "#Creation of a Train and Test Data\n"
      ],
      "execution_count": 0,
      "outputs": []
    },
    {
      "cell_type": "code",
      "metadata": {
        "id": "CeBnCB3pS8P4",
        "colab_type": "code",
        "outputId": "8da465a3-3acd-4b0f-ec36-9f3e0cea1572",
        "colab": {
          "base_uri": "https://localhost:8080/",
          "height": 35
        }
      },
      "source": [
        "\n",
        "def train_test_creation(x, data, toPred): \n",
        "  indices = sample(range(data.shape[0]),int(x * data.shape[0])) \n",
        "  indices = np.sort(indices, axis=None) \n",
        "  \n",
        "  index = np.arange(data.shape[0]) \n",
        "  reverse_index = np.delete(index, indices,0)\n",
        "  \n",
        "  train_toUse = data[indices]\n",
        "  train_toPred = toPred[indices]\n",
        "  test_toUse = data[reverse_index]\n",
        "  test_toPred = toPred[reverse_index]\n",
        "\n",
        "  return train_toUse, train_toPred, test_toUse, test_toPred\n",
        "\n",
        "df_train_toUse, df_train_toPred, df_test_toUse, df_test_toPred = train_test_creation(0.7, train_filtered, labels_bin)\n",
        "\n",
        "df_validation_toPred_cls = np.argmax(y_validation, axis=1)\n",
        "df_validation_toPred_cls[0:9]"
      ],
      "execution_count": 25,
      "outputs": [
        {
          "output_type": "execute_result",
          "data": {
            "text/plain": [
              "array([5, 1, 5, 6, 7, 2, 5, 1, 1])"
            ]
          },
          "metadata": {
            "tags": []
          },
          "execution_count": 25
        }
      ]
    },
    {
      "cell_type": "code",
      "metadata": {
        "id": "0np0lTC5S-k4",
        "colab_type": "code",
        "colab": {}
      },
      "source": [
        "#CNN with TensorFlow — Defining Layers"
      ],
      "execution_count": 0,
      "outputs": []
    },
    {
      "cell_type": "code",
      "metadata": {
        "id": "D-KBPRxPTFeb",
        "colab_type": "code",
        "colab": {}
      },
      "source": [
        "# Our images are 100 pixels in each dimension.\n",
        "img_size = image_resize\n",
        "\n",
        "# Number of colour channels for the images: 3\n",
        "num_channels = 3\n",
        "\n",
        "# Images are stored in one-dimensional arrays of this length.\n",
        "img_size_flat = img_size * img_size\n",
        "\n",
        "# Image Shape\n",
        "img_shape = (img_size, img_size, num_channels)\n",
        "\n",
        "# Number of classes : 5 breeds\n",
        "num_classes = Nber_of_breeds\n",
        "\n",
        "def new_weights(shape):\n",
        "    return tf.Variable(tf.truncated_normal(shape, stddev=0.05))\n",
        "    #outputs random value from a truncated normal distribution\n",
        "\n",
        "def new_biases(length):\n",
        "    return tf.Variable(tf.constant(0.05, shape=[length]))\n",
        "    #outputs the constant value 0.05"
      ],
      "execution_count": 0,
      "outputs": []
    },
    {
      "cell_type": "code",
      "metadata": {
        "id": "zgLkZUjeTNFW",
        "colab_type": "code",
        "colab": {}
      },
      "source": [
        "#convolution layer.\n",
        "\n",
        "def new_conv_layer(input,              # The previous layer.\n",
        "                   num_input_channels, # Num. channels in prev. layer.\n",
        "                   filter_size,        # Width and height of each filter.\n",
        "                   num_filters,        # Number of filters.\n",
        "                   use_pooling=True,\n",
        "                   use_dropout=True):  # Use 2x2 max-pooling.\n",
        "\n",
        "    # Shape of the filter-weights for the convolution.\n",
        "    # This format is determined by the TensorFlow API.\n",
        "    shape = [filter_size, filter_size, num_input_channels, num_filters]\n",
        "\n",
        "    # Create new weights aka. filters with the given shape.\n",
        "    weights = new_weights(shape=shape)\n",
        "\n",
        "    # Create new biases, one for each filter.\n",
        "    biases = new_biases(length=num_filters)\n",
        "\n",
        "    # Create the TensorFlow operation for convolution.\n",
        "    # Note the strides are set to 1 in all dimensions.\n",
        "    # The first and last stride must always be 1,\n",
        "    # because the first is for the image-number and\n",
        "    # the last is for the input-channel.\n",
        "    # But e.g. strides=[1, 2, 2, 1] would mean that the filter\n",
        "    # is moved 2 pixels across the x- and y-axis of the image.\n",
        "    # The padding is set to 'SAME' which means the input image\n",
        "    # is padded with zeroes so the size of the output is the same.\n",
        "    layer = tf.nn.conv2d(input=input,\n",
        "                         filter=weights,\n",
        "                         strides=[1, 1, 1, 1],\n",
        "                         padding='SAME')\n",
        "\n",
        "    # Add the biases to the results of the convolution.\n",
        "    # A bias-value is added to each filter-channel.\n",
        "    layer += biases\n",
        "\n",
        "    # Use pooling to down-sample the image resolution?\n",
        "    if use_pooling:\n",
        "        # This is 2x2 max-pooling, which means that we\n",
        "        # consider 2x2 windows and select the largest value\n",
        "        # in each window. Then we move 2 pixels to the next window.\n",
        "        layer = tf.nn.max_pool(value=layer,\n",
        "                               ksize=[1, 2, 2, 1],\n",
        "                               strides=[1, 2, 2, 1],\n",
        "                               padding='SAME')\n",
        "\n",
        "    # Rectified Linear Unit (ReLU).\n",
        "    # It calculates max(x, 0) for each input pixel x.\n",
        "    # This adds some non-linearity to the formula and allows us\n",
        "    # to learn more complicated functions.\n",
        "    layer = tf.nn.relu(layer)\n",
        "    \n",
        "    if use_dropout:\n",
        "        layer = tf.nn.dropout(layer,keep_prob_conv)\n",
        "\n",
        "    # Note that ReLU is normally executed before the pooling,\n",
        "    # but since relu(max_pool(x)) == max_pool(relu(x)) we can\n",
        "    # save 75% of the relu-operations by max-pooling first.\n",
        "\n",
        "    # We return both the resulting layer and the filter-weights\n",
        "    # because we will plot the weights later.\n",
        "    return layer, weights"
      ],
      "execution_count": 0,
      "outputs": []
    },
    {
      "cell_type": "code",
      "metadata": {
        "id": "9cTjzqcYTTXE",
        "colab_type": "code",
        "colab": {}
      },
      "source": [
        "# flatten layer.\n",
        "\n",
        "\n",
        "def flatten_layer(layer):\n",
        "    # Get the shape of the input layer.\n",
        "    layer_shape = layer.get_shape()\n",
        "\n",
        "    # The shape of the input layer is assumed to be:\n",
        "    # layer_shape == [num_images, img_height, img_width, num_channels]\n",
        "\n",
        "    # The number of features is: img_height * img_width * num_channels\n",
        "    # We can use a function from TensorFlow to calculate this.\n",
        "    num_features = layer_shape[1:4].num_elements()\n",
        "    \n",
        "    # Reshape the layer to [num_images, num_features].\n",
        "    # Note that we just set the size of the second dimension\n",
        "    # to num_features and the size of the first dimension to -1\n",
        "    # which means the size in that dimension is calculated\n",
        "    # so the total size of the tensor is unchanged from the reshaping.\n",
        "    layer_flat = tf.reshape(layer, [-1, num_features])\n",
        "\n",
        "    # The shape of the flattened layer is now:\n",
        "    # [num_images, img_height * img_width * num_channels]\n",
        "\n",
        "    # Return both the flattened layer and the number of features.\n",
        "    return layer_flat, num_features"
      ],
      "execution_count": 0,
      "outputs": []
    },
    {
      "cell_type": "code",
      "metadata": {
        "id": "sU9kTmzPTXZw",
        "colab_type": "code",
        "colab": {}
      },
      "source": [
        "#fully-connected layer.\n",
        "\n",
        "def new_fc_layer(input,          # The previous layer.\n",
        "                 num_inputs,     # Num. inputs from prev. layer.\n",
        "                 num_outputs,    # Num. outputs.\n",
        "                 use_relu=True,\n",
        "                 use_dropout=True): # Use Rectified Linear Unit (ReLU)?\n",
        "\n",
        "    # Create new weights and biases.\n",
        "    weights = new_weights(shape=[num_inputs, num_outputs])\n",
        "    biases = new_biases(length=num_outputs)\n",
        "\n",
        "    # Calculate the layer as the matrix multiplication of\n",
        "    # the input and weights, and then add the bias-values.\n",
        "    layer = tf.matmul(input, weights) + biases\n",
        "\n",
        "    # Use ReLU?\n",
        "    if use_relu:\n",
        "        layer = tf.nn.relu(layer)\n",
        "    \n",
        "    if use_dropout:\n",
        "        layer = tf.nn.dropout(layer,keep_prob_fc)\n",
        "        \n",
        "    return layer"
      ],
      "execution_count": 0,
      "outputs": []
    },
    {
      "cell_type": "code",
      "metadata": {
        "id": "PCiPtiGcTb5p",
        "colab_type": "code",
        "colab": {}
      },
      "source": [
        "#CNN with TensorFlow — Set up placeholder tensor"
      ],
      "execution_count": 0,
      "outputs": []
    },
    {
      "cell_type": "code",
      "metadata": {
        "id": "2TMOuLr0Td_y",
        "colab_type": "code",
        "colab": {}
      },
      "source": [
        "x = tf.placeholder(tf.float32, shape=[None, img_size, img_size, num_channels], name='x')\n",
        "x_image = tf.reshape(x, [-1, img_size, img_size, num_channels]) #-1 put everything as 1 array\n",
        "y_true = tf.placeholder(tf.float32, shape=[None, num_classes], name='y_true')\n",
        "y_true_cls = tf.argmax(y_true, axis=1)\n",
        "keep_prob_fc=tf.placeholder(tf.float32)\n",
        "keep_prob_conv=tf.placeholder(tf.float32)"
      ],
      "execution_count": 0,
      "outputs": []
    },
    {
      "cell_type": "code",
      "metadata": {
        "id": "M1XCzaJ4TgGE",
        "colab_type": "code",
        "colab": {}
      },
      "source": [
        "#CNN with TensorFlow — Design the layer"
      ],
      "execution_count": 0,
      "outputs": []
    },
    {
      "cell_type": "code",
      "metadata": {
        "id": "SUvTunv3TiXr",
        "colab_type": "code",
        "outputId": "b830da6b-8d79-487a-bab2-d5aa8f09dfe3",
        "colab": {
          "base_uri": "https://localhost:8080/",
          "height": 92
        }
      },
      "source": [
        "# Convolutional Layer 1.\n",
        "filter_size1 = 5          # Convolution filters are 5 x 5 pixels.\n",
        "num_filters1 = 32         # There are 32 of these filters.\n",
        "\n",
        "\n",
        "# Convolutional Layer 2.\n",
        "filter_size2 = 4          # Convolution filters are 4 x 4 pixels.\n",
        "num_filters2 = 64      # There are 64 of these filters.\n",
        "\n",
        "\n",
        "# Convolutional Layer 3.\n",
        "filter_size3 = 3          # Convolution filters are 3 x 3 pixels.\n",
        "num_filters3 = 128      # There are 128 of these filters.\n",
        "\n",
        "\n",
        "# Fully-connected layer.\n",
        "fc_size = 500 \n",
        "\n",
        "layer_conv1, weights_conv1 = \\\n",
        "    new_conv_layer(input=x_image,\n",
        "                   num_input_channels=num_channels,\n",
        "                   filter_size=filter_size1,\n",
        "                   num_filters=num_filters1,\n",
        "                   use_pooling=True,\n",
        "                   use_dropout=False)\n",
        "    \n",
        "layer_conv2, weights_conv2 = \\\n",
        "    new_conv_layer(input=layer_conv1,\n",
        "                   num_input_channels=num_filters1,\n",
        "                   filter_size=filter_size2,\n",
        "                   num_filters=num_filters2,\n",
        "                   use_pooling=True,\n",
        "                   use_dropout=False)\n",
        "    \n",
        "layer_conv3, weights_conv3 = \\\n",
        "    new_conv_layer(input=layer_conv2,\n",
        "                   num_input_channels=num_filters2,\n",
        "                   filter_size=filter_size3,\n",
        "                   num_filters=num_filters3,\n",
        "                   use_pooling=True,\n",
        "                   use_dropout=True)\n",
        "\n",
        "layer_flat, num_features = flatten_layer(layer_conv3)\n",
        "\n",
        "#Train\n",
        "layer_fc1 = new_fc_layer(input=layer_flat,\n",
        "                         num_inputs=num_features,\n",
        "                         num_outputs=fc_size,\n",
        "                         use_relu=True,\n",
        "                         use_dropout=True)\n",
        "\n",
        "layer_fc2 = new_fc_layer(input=layer_fc1,\n",
        "                         num_inputs=fc_size,\n",
        "                         num_outputs=num_classes,\n",
        "                         use_relu=False,\n",
        "                         use_dropout=False)\n",
        "\n",
        "#Prediction\n",
        "y_pred = tf.nn.softmax(layer_fc2)\n",
        "y_pred_cls = tf.argmax(y_pred, axis=1)"
      ],
      "execution_count": 34,
      "outputs": [
        {
          "output_type": "stream",
          "text": [
            "WARNING:tensorflow:From <ipython-input-28-76c25b2c197e>:54: calling dropout (from tensorflow.python.ops.nn_ops) with keep_prob is deprecated and will be removed in a future version.\n",
            "Instructions for updating:\n",
            "Please use `rate` instead of `keep_prob`. Rate should be set to `rate = 1 - keep_prob`.\n"
          ],
          "name": "stdout"
        }
      ]
    },
    {
      "cell_type": "code",
      "metadata": {
        "id": "_dCDE024TlTZ",
        "colab_type": "code",
        "colab": {}
      },
      "source": [
        "#CNN with TensorFlow — Cross-entropy loss"
      ],
      "execution_count": 0,
      "outputs": []
    },
    {
      "cell_type": "code",
      "metadata": {
        "id": "y1vHJ7dQTnnq",
        "colab_type": "code",
        "outputId": "42b5368a-f0bf-43bc-ae93-8a3b92e7cf0e",
        "colab": {
          "base_uri": "https://localhost:8080/",
          "height": 182
        }
      },
      "source": [
        "cross_entropy = tf.nn.softmax_cross_entropy_with_logits(logits=layer_fc2, labels=y_true)\n",
        "cost = tf.reduce_mean(cross_entropy)\n",
        "optimizer = tf.train.AdamOptimizer(learning_rate=1e-4).minimize(cost)\n",
        "correct_prediction = tf.equal(y_pred_cls, y_true_cls)\n",
        "accuracy = tf.reduce_mean(tf.cast(correct_prediction, tf.float32))"
      ],
      "execution_count": 36,
      "outputs": [
        {
          "output_type": "stream",
          "text": [
            "WARNING:tensorflow:From <ipython-input-36-bc219e9f534c>:1: softmax_cross_entropy_with_logits (from tensorflow.python.ops.nn_ops) is deprecated and will be removed in a future version.\n",
            "Instructions for updating:\n",
            "\n",
            "Future major versions of TensorFlow will allow gradients to flow\n",
            "into the labels input on backprop by default.\n",
            "\n",
            "See `tf.nn.softmax_cross_entropy_with_logits_v2`.\n",
            "\n"
          ],
          "name": "stdout"
        }
      ]
    },
    {
      "cell_type": "code",
      "metadata": {
        "id": "_pWp42_XTp2x",
        "colab_type": "code",
        "colab": {}
      },
      "source": [
        "#CNN with TensorFlow — Train the model"
      ],
      "execution_count": 0,
      "outputs": []
    },
    {
      "cell_type": "code",
      "metadata": {
        "id": "VjtdUuEpTzGP",
        "colab_type": "code",
        "colab": {}
      },
      "source": [
        "session = tf.Session()\n",
        "def init_variables():\n",
        "   session.run(tf.global_variables_initializer())"
      ],
      "execution_count": 0,
      "outputs": []
    },
    {
      "cell_type": "code",
      "metadata": {
        "id": "Btwx9cRUT0pf",
        "colab_type": "code",
        "colab": {}
      },
      "source": [
        "batch_size = 50\n",
        "\n",
        "#function next_batch\n",
        "def next_batch(num, data, labels):\n",
        "    '''\n",
        "    Return a total of `num` random samples and labels. \n",
        "    '''\n",
        "    idx = np.arange(0 , len(data))\n",
        "    np.random.shuffle(idx)\n",
        "    idx = idx[:num]\n",
        "    data_shuffle = [data[i] for i in idx]\n",
        "    labels_shuffle = [labels[i] for i in idx]\n",
        "\n",
        "\n",
        "    return np.asarray(data_shuffle), np.asarray(labels_shuffle)"
      ],
      "execution_count": 0,
      "outputs": []
    },
    {
      "cell_type": "code",
      "metadata": {
        "id": "fD4RdhmbT29M",
        "colab_type": "code",
        "colab": {}
      },
      "source": [
        "def optimize(num_iterations, X):\n",
        "    global total_iterations\n",
        "    \n",
        "    start_time = time.time()\n",
        "    \n",
        "    #array to plot\n",
        "    losses = {'train':[], 'validation':[]}\n",
        "    \n",
        "    for i in range(num_iterations):\n",
        "            total_iterations += 1\n",
        "            # Get a batch of training examples.\n",
        "            # x_batch now holds a batch of images and\n",
        "            # y_true_batch are the true labels for those images.\n",
        "            x_batch, y_true_batch = next_batch(batch_size, X_train, y_train)\n",
        "\n",
        "\n",
        "            # Put the batch into a dict with the proper names\n",
        "            # for placeholder variables in the TensorFlow graph.\n",
        "            feed_dict_train = {x: x_batch,\n",
        "                               y_true: y_true_batch,\n",
        "                               keep_prob_conv : 0.3,\n",
        "                               keep_prob_fc : 0.4}\n",
        "            feed_dict_validation = {x: X_validation,\n",
        "                               y_true: y_validation,\n",
        "                               keep_prob_conv : 1,\n",
        "                               keep_prob_fc : 1}\n",
        "            \n",
        "            # Run the optimizer using this batch of training data.\n",
        "            # TensorFlow assigns the variables in feed_dict_train\n",
        "            # to the placeholder variables and then runs the optimizer.\n",
        "            session.run(optimizer, feed_dict=feed_dict_train)\n",
        "            \n",
        "            acc_train = session.run(accuracy, feed_dict=feed_dict_train)\n",
        "            acc_validation = session.run(accuracy, feed_dict=feed_dict_validation)\n",
        "            losses['train'].append(acc_train)\n",
        "            losses['validation'].append(acc_validation)\n",
        "            \n",
        "            # Print status every X iterations.\n",
        "            if (total_iterations % X == 0) or (i ==(num_iterations -1)):\n",
        "            # Calculate the accuracy on the training-set.\n",
        "                                \n",
        "                msg = \"Iteration: {0:>6}, Training Accuracy: {1:>6.1%}, Validation Accuracy: {2:>6.1%}\"\n",
        "                print(msg.format(total_iterations, acc_train, acc_validation))\n",
        "                \n",
        "    \n",
        "    # Ending time.\n",
        "    end_time = time.time()\n",
        "\n",
        "\n",
        "    # Difference between start and end-times.\n",
        "    time_dif = end_time - start_time\n",
        "\n",
        "\n",
        "    # Print the time-usage.\n",
        "    print(\"Time usage: \" + str(timedelta(seconds=int(round(time_dif)))))\n",
        "    \n",
        "    plt.plot(losses['train'], label='Training loss')\n",
        "    plt.plot(losses['validation'], label='Validation loss')\n",
        "    plt.legend()\n",
        "    _ = plt.ylim()"
      ],
      "execution_count": 0,
      "outputs": []
    },
    {
      "cell_type": "code",
      "metadata": {
        "id": "DAR6lrRZT56O",
        "colab_type": "code",
        "outputId": "03850bc4-7496-4f1f-b9e9-d6958b24512c",
        "colab": {
          "base_uri": "https://localhost:8080/",
          "height": 538
        }
      },
      "source": [
        "init_variables()\n",
        "total_iterations = 0\n",
        "optimize(num_iterations=3500, X=250)"
      ],
      "execution_count": 41,
      "outputs": [
        {
          "output_type": "stream",
          "text": [
            "Iteration:    250, Training Accuracy:  30.0%, Validation Accuracy:  31.0%\n",
            "Iteration:    500, Training Accuracy:  36.0%, Validation Accuracy:  37.2%\n",
            "Iteration:    750, Training Accuracy:  52.0%, Validation Accuracy:  40.8%\n",
            "Iteration:   1000, Training Accuracy:  64.0%, Validation Accuracy:  38.3%\n",
            "Iteration:   1250, Training Accuracy:  68.0%, Validation Accuracy:  43.0%\n",
            "Iteration:   1500, Training Accuracy:  86.0%, Validation Accuracy:  39.4%\n",
            "Iteration:   1750, Training Accuracy:  72.0%, Validation Accuracy:  41.2%\n",
            "Iteration:   2000, Training Accuracy:  84.0%, Validation Accuracy:  39.4%\n",
            "Iteration:   2250, Training Accuracy:  82.0%, Validation Accuracy:  41.5%\n",
            "Iteration:   2500, Training Accuracy:  88.0%, Validation Accuracy:  41.5%\n",
            "Iteration:   2750, Training Accuracy:  90.0%, Validation Accuracy:  40.4%\n",
            "Iteration:   3000, Training Accuracy:  90.0%, Validation Accuracy:  41.5%\n",
            "Iteration:   3250, Training Accuracy:  92.0%, Validation Accuracy:  41.2%\n",
            "Iteration:   3500, Training Accuracy:  94.0%, Validation Accuracy:  41.5%\n",
            "Time usage: 0:01:43\n"
          ],
          "name": "stdout"
        },
        {
          "output_type": "display_data",
          "data": {
            "image/png": "[encoded data removed]",
            "text/plain": [
              "<Figure size 432x288 with 1 Axes>"
            ]
          },
          "metadata": {
            "tags": []
          }
        }
      ]
    },
    {
      "cell_type": "code",
      "metadata": {
        "id": "vs6Y-A9eUIJM",
        "colab_type": "code",
        "colab": {}
      },
      "source": [
        "#CNN with TensorFlow — Results/"
      ],
      "execution_count": 0,
      "outputs": []
    },
    {
      "cell_type": "code",
      "metadata": {
        "id": "2YX0ue7pT_e3",
        "colab_type": "code",
        "colab": {}
      },
      "source": [
        "def plot_images(images, cls_true, cls_pred=None):\n",
        "    assert len(images) == len(cls_true) == 12\n",
        "    \n",
        "    # Create figure with 3x3 sub-plots.\n",
        "    fig, axes = plt.subplots(4, 3)\n",
        "    fig.subplots_adjust(hspace=0.3, wspace=0.3)\n",
        "\n",
        "\n",
        "    for i, ax in enumerate(axes.flat):\n",
        "        # Plot image.\n",
        "        ax.imshow(images[i].reshape(img_shape), cmap='binary')\n",
        "\n",
        "\n",
        "        # Show true and predicted classes.\n",
        "        if cls_pred is None:\n",
        "            xlabel = \"True: {0}\".format(cls_true[i])\n",
        "        else:\n",
        "            xlabel = \"True: {0}, Pred: {1}\".format(cls_true[i], cls_pred[i])\n",
        "\n",
        "\n",
        "        # Show the classes as the label on the x-axis.\n",
        "        ax.set_xlabel(xlabel)\n",
        "        \n",
        "        # Remove ticks from the plot.\n",
        "        ax.set_xticks([])\n",
        "        ax.set_yticks([])\n",
        "    \n",
        "    # Ensure the plot is shown correctly with multiple plots\n",
        "    # in a single Notebook cell.\n",
        "    plt.show()"
      ],
      "execution_count": 0,
      "outputs": []
    },
    {
      "cell_type": "code",
      "metadata": {
        "id": "LrBy2GkzULsh",
        "colab_type": "code",
        "colab": {}
      },
      "source": [
        "def plot_confusion_matrix(data_pred_cls,data_predicted_cls):\n",
        "    # This is called from print_test_accuracy() below.\n",
        "\n",
        "\n",
        "    # cls_pred is an array of the predicted class-number for\n",
        "    # all images in the test-set.\n",
        "  \n",
        "    # Get the confusion matrix using sklearn.\n",
        "    cm = confusion_matrix(y_true=data_pred_cls,\n",
        "                          y_pred=data_predicted_cls)\n",
        "\n",
        "\n",
        "    # Print the confusion matrix as text.\n",
        "    print(cm)\n",
        "\n",
        "\n",
        "    # Plot the confusion matrix as an image.\n",
        "    plt.matshow(cm)\n",
        "\n",
        "\n",
        "    # Make various adjustments to the plot.\n",
        "    plt.colorbar()\n",
        "    tick_marks = np.arange(num_classes)\n",
        "    plt.xticks(tick_marks, range(num_classes))\n",
        "    plt.yticks(tick_marks, range(num_classes))\n",
        "    plt.xlabel('Predicted')\n",
        "    plt.ylabel('True')\n",
        "\n",
        "\n",
        "    # Ensure the plot is shown correctly with multiple plots\n",
        "    # in a single Notebook cell.\n",
        "    plt.show()"
      ],
      "execution_count": 0,
      "outputs": []
    },
    {
      "cell_type": "code",
      "metadata": {
        "id": "8xbosXPCUOvF",
        "colab_type": "code",
        "colab": {}
      },
      "source": [
        "def plot_confusion_matrix(data_pred_cls,data_predicted_cls):\n",
        "    # This is called from print_test_accuracy() below.\n",
        "\n",
        "\n",
        "    # cls_pred is an array of the predicted class-number for\n",
        "    # all images in the test-set.\n",
        "  \n",
        "    # Get the confusion matrix using sklearn.\n",
        "    cm = confusion_matrix(y_true=data_pred_cls,\n",
        "                          y_pred=data_predicted_cls)\n",
        "\n",
        "\n",
        "    # Print the confusion matrix as text.\n",
        "    print(cm)\n",
        "\n",
        "\n",
        "    # Plot the confusion matrix as an image.\n",
        "    plt.matshow(cm)\n",
        "\n",
        "\n",
        "    # Make various adjustments to the plot.\n",
        "    plt.colorbar()\n",
        "    tick_marks = np.arange(num_classes)\n",
        "    plt.xticks(tick_marks, range(num_classes))\n",
        "    plt.yticks(tick_marks, range(num_classes))\n",
        "    plt.xlabel('Predicted')\n",
        "    plt.ylabel('True')\n",
        "\n",
        "\n",
        "    # Ensure the plot is shown correctly with multiple plots\n",
        "    # in a single Notebook cell.\n",
        "    plt.show()"
      ],
      "execution_count": 0,
      "outputs": []
    },
    {
      "cell_type": "code",
      "metadata": {
        "id": "Bu-Ta8sUp3wj",
        "colab_type": "code",
        "outputId": "08cf289c-e459-41e9-f552-3b7624af7a92",
        "colab": {
          "base_uri": "https://localhost:8080/",
          "height": 262
        }
      },
      "source": [
        "feed_dict_validation = {x: X_validation, y_true: y_validation, keep_prob_conv : 1, keep_prob_fc : 1}\n",
        "df_validation_Predicted_cls = session.run(y_pred_cls, feed_dict=feed_dict_validation)\n",
        "plot_images(images=X_validation[50:62], cls_true=df_validation_toPred_cls[50:62], cls_pred=df_validation_Predicted_cls [50:62])"
      ],
      "execution_count": 46,
      "outputs": [
        {
          "output_type": "display_data",
          "data": {
            "image/png": "[encoded data removed]",
            "text/plain": [
              "<Figure size 432x288 with 12 Axes>"
            ]
          },
          "metadata": {
            "tags": []
          }
        }
      ]
    },
    {
      "cell_type": "code",
      "metadata": {
        "id": "0hAaGFrxp51B",
        "colab_type": "code",
        "outputId": "830b1909-2882-4b94-8746-7ef019b7ef3c",
        "colab": {
          "base_uri": "https://localhost:8080/",
          "height": 53
        }
      },
      "source": [
        "i = 63\n",
        "print((\"True : {0} / {1}\").format(df_validation_toPred_cls[i], labels_name[df_validation_toPred_cls[i]]))\n",
        "print((\"Pred : {0} / {1}\").format(df_validation_Predicted_cls[i], labels_name[df_validation_Predicted_cls[i]]))\n",
        "lum = X_validation[i,:,:,:]\n",
        "plt.show()"
      ],
      "execution_count": 47,
      "outputs": [
        {
          "output_type": "stream",
          "text": [
            "True : 7 / shih-tzu\n",
            "Pred : 7 / shih-tzu\n"
          ],
          "name": "stdout"
        }
      ]
    },
    {
      "cell_type": "code",
      "metadata": {
        "id": "J5eg7_vwp8TZ",
        "colab_type": "code",
        "outputId": "59a73d6f-5327-4065-d237-108ff0e35daa",
        "colab": {
          "base_uri": "https://localhost:8080/",
          "height": 405
        }
      },
      "source": [
        "plot_confusion_matrix(df_validation_toPred_cls,df_validation_Predicted_cls)"
      ],
      "execution_count": 48,
      "outputs": [
        {
          "output_type": "stream",
          "text": [
            "[[ 6  3  4  2  2  5  6  3]\n",
            " [ 1 20 13  1  0  0  2  2]\n",
            " [ 1  6 24  0  0  0  3  2]\n",
            " [ 0  4  1  8  6  4  5  6]\n",
            " [ 2  0  0  9  9 10  2  2]\n",
            " [ 2  3  0  2  2 16  3  1]\n",
            " [ 5  3  3  2  1  1 17  2]\n",
            " [ 0  4  4  4  7  3  3 15]]\n"
          ],
          "name": "stdout"
        },
        {
          "output_type": "display_data",
          "data": {
            "image/png": "[encoded data removed]",
            "text/plain": [
              "<Figure size 288x288 with 2 Axes>"
            ]
          },
          "metadata": {
            "tags": []
          }
        }
      ]
    },
    {
      "cell_type": "code",
      "metadata": {
        "id": "Pn7JpPx5qAPF",
        "colab_type": "code",
        "colab": {}
      },
      "source": [
        ""
      ],
      "execution_count": 0,
      "outputs": []
    }
  ]
}