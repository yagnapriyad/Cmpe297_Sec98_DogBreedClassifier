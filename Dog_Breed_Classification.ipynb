{
  "nbformat": 4,
  "nbformat_minor": 0,
  "metadata": {
    "colab": {
      "name": "Dog_Breed_Classification.ipynb",
      "provenance": [],
      "collapsed_sections": []
    },
    "kernelspec": {
      "name": "python3",
      "display_name": "Python 3"
    },
    "accelerator": "GPU"
  },
  "cells": [
    {
      "cell_type": "code",
      "metadata": {
        "id": "5iaN88N5o0JP",
        "colab_type": "code",
        "outputId": "bdf99879-e663-42c9-f88b-14f197571b4e",
        "colab": {
          "base_uri": "https://localhost:8080/",
          "height": 63
        }
      },
      "source": [
        "%matplotlib inline\n",
        "import matplotlib.pyplot as plt\n",
        "\n",
        "import tensorflow as tf\n",
        "import numpy as np\n",
        "import pandas as pd\n",
        "\n",
        "import time\n",
        "from datetime import timedelta\n",
        "\n",
        "import math\n",
        "import os\n",
        "\n",
        "import scipy.misc\n",
        "from scipy.stats import itemfreq\n",
        "from random import sample\n",
        "import pickle\n",
        "\n",
        "from sklearn.metrics import confusion_matrix\n",
        "from sklearn.model_selection import train_test_split\n",
        "\n",
        "# Image manipulation\n",
        "import PIL.Image\n",
        "from IPython.display import display\n",
        "\n",
        "# Open a Zip File\n",
        "from zipfile import ZipFile\n",
        "from io import BytesIO"
      ],
      "execution_count": 0,
      "outputs": [
        {
          "output_type": "display_data",
          "data": {
            "text/html": [
              "<p style=\"color: red;\">\n",
              "The default version of TensorFlow in Colab will soon switch to TensorFlow 2.x.<br>\n",
              "We recommend you <a href=\"https://www.tensorflow.org/guide/migrate\" target=\"_blank\">upgrade</a> now \n",
              "or ensure your notebook will continue to use TensorFlow 1.x via the <code>%tensorflow_version 1.x</code> magic:\n",
              "<a href=\"https://colab.research.google.com/notebooks/tensorflow_version.ipynb\" target=\"_blank\">more info</a>.</p>\n"
            ],
            "text/plain": [
              "<IPython.core.display.HTML object>"
            ]
          },
          "metadata": {
            "tags": []
          }
        }
      ]
    },
    {
      "cell_type": "code",
      "metadata": {
        "id": "z801ROotSZgi",
        "colab_type": "code",
        "outputId": "3accaf4b-2973-4e08-85bb-034cad2a8fb5",
        "colab": {
          "base_uri": "https://localhost:8080/",
          "height": 34
        }
      },
      "source": [
        "from google.colab import drive\n",
        "drive.mount('/content/drive')\n",
        "!unzip -uq '/content/drive/My Drive/CMPE 278-98 - Emerging Technologies/Homework/dog-breed-id/train.zip'\n",
        "!unzip -uq '/content/drive/My Drive/CMPE 278-98 - Emerging Technologies/Homework/dog-breed-id/test.zip'\n",
        "\n"
      ],
      "execution_count": 0,
      "outputs": [
        {
          "output_type": "stream",
          "text": [
            "Drive already mounted at /content/drive; to attempt to forcibly remount, call drive.mount(\"/content/drive\", force_remount=True).\n"
          ],
          "name": "stdout"
        }
      ]
    },
    {
      "cell_type": "code",
      "metadata": {
        "id": "vVFhqSNzRJci",
        "colab_type": "code",
        "outputId": "67468171-51ec-417e-8bb0-7e4a4ad5f852",
        "colab": {
          "base_uri": "https://localhost:8080/",
          "height": 34
        }
      },
      "source": [
        "# We unzip the train and test zip file\n",
        "train = ZipFile(\"/content/drive/My Drive/CMPE 278-98 - Emerging Technologies/Homework/dog-breed-id/train.zip\", 'r')\n",
        "test = ZipFile(\"/content/drive/My Drive/CMPE 278-98 - Emerging Technologies/Homework/dog-breed-id/test.zip\", 'r')\n",
        "# This line shows the 5 first image name of the train database\n",
        "train.namelist()[0:5]\n",
        "# This line shows the number of images in the train database, noted that we must remove the 1st value (column header)\n",
        "len(train.namelist()[:]) - 1"
      ],
      "execution_count": 0,
      "outputs": [
        {
          "output_type": "execute_result",
          "data": {
            "text/plain": [
              "10222"
            ]
          },
          "metadata": {
            "tags": []
          },
          "execution_count": 3
        }
      ]
    },
    {
      "cell_type": "code",
      "metadata": {
        "id": "bunuBLwDTxpd",
        "colab_type": "code",
        "colab": {}
      },
      "source": [
        "# This function help to create a pickle file gathering all the image from a zip folder\n",
        "def DataBase_creator(archivezip, nwidth, nheight, save_name):\n",
        "    # We choose the archive (zip file) + the new width and height for all the image which will be reshaped\n",
        "    \n",
        "    # Start-time used for printing time-usage below.\n",
        "    start_time = time.time()\n",
        "    \n",
        "    # nwidth x nheight = number of features because images have nwidth x nheight pixels\n",
        "    s = (len(archivezip.namelist()[:])-1, nwidth, nheight,3)\n",
        "    allImage = np.zeros(s)\n",
        "    for i in range(1,len(archivezip.namelist()[:])):\n",
        "        filename = BytesIO(archivezip.read(archivezip.namelist()[i]))\n",
        "        image = PIL.Image.open(filename) # open colour image\n",
        "        image = image.resize((nwidth, nheight))\n",
        "        image = np.array(image)\n",
        "        image = np.clip(image/255.0, 0.0, 1.0) # 255 = max of the value of a pixel\n",
        "        allImage[i-1]=image\n",
        "    \n",
        "    # we save the newly created data base\n",
        "    pickle.dump(allImage, open( save_name + '.p', \"wb\" ) )\n",
        "    \n",
        "    # Ending time.\n",
        "    end_time = time.time()\n",
        "    # Difference between start and end-times.\n",
        "    time_dif = end_time - start_time\n",
        "    # Print the time-usage.\n",
        "    print(\"Time usage: \" + str(timedelta(seconds=int(round(time_dif)))))"
      ],
      "execution_count": 0,
      "outputs": []
    },
    {
      "cell_type": "code",
      "metadata": {
        "id": "sDVYDJNGUkO8",
        "colab_type": "code",
        "outputId": "c1c3f676-b7ec-44f9-8bf3-f5ed549c3356",
        "colab": {
          "base_uri": "https://localhost:8080/",
          "height": 34
        }
      },
      "source": [
        "# Define the new image size applied for all images\n",
        "# Create a pickle file for both the training and desting dataset\n",
        "image_resize = 60\n",
        "DataBase_creator(archivezip = train, nwidth = image_resize, \n",
        "                 nheight = image_resize , save_name = \"/content/drive/My Drive/CMPE 278-98 - Emerging Technologies/Homework/pickle/train\")\n",
        "# DataBase_creator(archivezip = test, nwidth = image_resize, \n",
        "#                  nheight = image_resize , save_name = \"/content/drive/My Drive/CMPE 278-98 - Emerging Technologies/Homework/pickle/test\")"
      ],
      "execution_count": 0,
      "outputs": [
        {
          "output_type": "stream",
          "text": [
            "Time usage: 0:00:38\n"
          ],
          "name": "stdout"
        }
      ]
    },
    {
      "cell_type": "code",
      "metadata": {
        "id": "A_C73GxMU3GB",
        "colab_type": "code",
        "outputId": "a2752c5c-6b02-459c-ab73-4802298e42a3",
        "colab": {
          "base_uri": "https://localhost:8080/",
          "height": 34
        }
      },
      "source": [
        "# load train pickle file\n",
        "train = pickle.load( open( \"/content/drive/My Drive/CMPE 278-98 - Emerging Technologies/Homework/pickle/train.p\", \"rb\" ) )\n",
        "train.shape"
      ],
      "execution_count": 0,
      "outputs": [
        {
          "output_type": "execute_result",
          "data": {
            "text/plain": [
              "(10222, 60, 60, 3)"
            ]
          },
          "metadata": {
            "tags": []
          },
          "execution_count": 5
        }
      ]
    },
    {
      "cell_type": "code",
      "metadata": {
        "id": "AtaLuj-QZMfW",
        "colab_type": "code",
        "outputId": "98fc17ec-c273-4a02-fe99-b14a6d408401",
        "colab": {
          "base_uri": "https://localhost:8080/",
          "height": 34
        }
      },
      "source": [
        "# load test pickle file\n",
        "test = pickle.load( open( \"/content/drive/My Drive/CMPE 278-98 - Emerging Technologies/Homework/pickle/test.p\", \"rb\" ) )\n",
        "test.shape"
      ],
      "execution_count": 0,
      "outputs": [
        {
          "output_type": "execute_result",
          "data": {
            "text/plain": [
              "(10357, 60, 60, 3)"
            ]
          },
          "metadata": {
            "tags": []
          },
          "execution_count": 6
        }
      ]
    },
    {
      "cell_type": "code",
      "metadata": {
        "id": "CVcKcJUzbsYn",
        "colab_type": "code",
        "outputId": "c8f0d884-e8f7-48ed-c299-33dc6b232521",
        "colab": {
          "base_uri": "https://localhost:8080/",
          "height": 285
        }
      },
      "source": [
        "plt.imshow(test[100,:,:,:])"
      ],
      "execution_count": 0,
      "outputs": [
        {
          "output_type": "execute_result",
          "data": {
            "text/plain": [
              "<matplotlib.image.AxesImage at 0x7f19badb91d0>"
            ]
          },
          "metadata": {
            "tags": []
          },
          "execution_count": 7
        },
        {
          "output_type": "display_data",
          "data": {
            "image/png": "[encoded data removed]",
            "text/plain": [
              "<Figure size 432x288 with 1 Axes>"
            ]
          },
          "metadata": {
            "tags": []
          }
        }
      ]
    },
    {
      "cell_type": "code",
      "metadata": {
        "id": "dOY7xwSVdQ-T",
        "colab_type": "code",
        "colab": {}
      },
      "source": [
        "# reading in labels\n",
        "path = \"/content/drive/My Drive/CMPE 278-98 - Emerging Technologies/Homework/dog-breed-id/labels.csv\"\n",
        "labels = pd.read_csv(path)"
      ],
      "execution_count": 0,
      "outputs": []
    },
    {
      "cell_type": "code",
      "metadata": {
        "id": "nOud455KZUf9",
        "colab_type": "code",
        "colab": {}
      },
      "source": [
        "# normalizing the images\n",
        "image_resize = 60\n",
        "nwidth = image_resize\n",
        "nheight = image_resize\n",
        "\n",
        "# nwidth x nheight = number of features because images are nwidth x nheight pixels\n",
        "s = (len(labels['breed']), nwidth, nheight,3) \n",
        "allImage = np.zeros(s)\n",
        "\n",
        "i = 0\n",
        "for f, breed in labels.values:\n",
        "    image = PIL.Image.open('../content/train/{}.jpg'.format(f))\n",
        "    image = image.resize((nwidth, nheight))\n",
        "    image = np.array(image)\n",
        "    image = np.clip(image/255.0, 0.0, 1.0) # 255 = max of the value of a pixel\n",
        "    i += 1\n",
        "    allImage[i-1]=image\n",
        "\n",
        "    train = allImage"
      ],
      "execution_count": 0,
      "outputs": []
    },
    {
      "cell_type": "code",
      "metadata": {
        "id": "GIL_qQyNbzyy",
        "colab_type": "code",
        "outputId": "00576cbf-ea2a-4580-e713-38b99faaa757",
        "colab": {
          "base_uri": "https://localhost:8080/",
          "height": 267
        }
      },
      "source": [
        "\n",
        "plt.imshow(train[100,:,:,:])\n",
        "plt.show()"
      ],
      "execution_count": 0,
      "outputs": [
        {
          "output_type": "display_data",
          "data": {
            "image/png": "[encoded data removed]",
            "text/plain": [
              "<Figure size 432x288 with 1 Axes>"
            ]
          },
          "metadata": {
            "tags": []
          }
        }
      ]
    },
    {
      "cell_type": "code",
      "metadata": {
        "id": "OSw5xRO9oUXH",
        "colab_type": "code",
        "outputId": "42a67b15-7cdf-42c7-a924-337bc848c577",
        "colab": {
          "base_uri": "https://localhost:8080/",
          "height": 197
        }
      },
      "source": [
        "labels.sample(5)"
      ],
      "execution_count": 0,
      "outputs": [
        {
          "output_type": "execute_result",
          "data": {
            "text/html": [
              "<div>\n",
              "<style scoped>\n",
              "    .dataframe tbody tr th:only-of-type {\n",
              "        vertical-align: middle;\n",
              "    }\n",
              "\n",
              "    .dataframe tbody tr th {\n",
              "        vertical-align: top;\n",
              "    }\n",
              "\n",
              "    .dataframe thead th {\n",
              "        text-align: right;\n",
              "    }\n",
              "</style>\n",
              "<table border=\"1\" class=\"dataframe\">\n",
              "  <thead>\n",
              "    <tr style=\"text-align: right;\">\n",
              "      <th></th>\n",
              "      <th>id</th>\n",
              "      <th>breed</th>\n",
              "    </tr>\n",
              "  </thead>\n",
              "  <tbody>\n",
              "    <tr>\n",
              "      <th>9925</th>\n",
              "      <td>f97b9b8848683ab240cffeda2c855502</td>\n",
              "      <td>entlebucher</td>\n",
              "    </tr>\n",
              "    <tr>\n",
              "      <th>409</th>\n",
              "      <td>09d462e2ad4d8c51d1a8430577891d8a</td>\n",
              "      <td>irish_terrier</td>\n",
              "    </tr>\n",
              "    <tr>\n",
              "      <th>2497</th>\n",
              "      <td>3e2f226678909037ed26abc9c2289af9</td>\n",
              "      <td>black-and-tan_coonhound</td>\n",
              "    </tr>\n",
              "    <tr>\n",
              "      <th>8427</th>\n",
              "      <td>d3ab6b3d328b2cd91bed99aee99fa6ed</td>\n",
              "      <td>kuvasz</td>\n",
              "    </tr>\n",
              "    <tr>\n",
              "      <th>7885</th>\n",
              "      <td>c552deb03796d5f050d9d2cfd1323d73</td>\n",
              "      <td>brabancon_griffon</td>\n",
              "    </tr>\n",
              "  </tbody>\n",
              "</table>\n",
              "</div>"
            ],
            "text/plain": [
              "                                    id                    breed\n",
              "9925  f97b9b8848683ab240cffeda2c855502              entlebucher\n",
              "409   09d462e2ad4d8c51d1a8430577891d8a            irish_terrier\n",
              "2497  3e2f226678909037ed26abc9c2289af9  black-and-tan_coonhound\n",
              "8427  d3ab6b3d328b2cd91bed99aee99fa6ed                   kuvasz\n",
              "7885  c552deb03796d5f050d9d2cfd1323d73        brabancon_griffon"
            ]
          },
          "metadata": {
            "tags": []
          },
          "execution_count": 13
        }
      ]
    },
    {
      "cell_type": "code",
      "metadata": {
        "id": "TwxPqpBzDJzF",
        "colab_type": "code",
        "outputId": "9154b640-56bd-425d-dc13-85e0b6344ebc",
        "colab": {
          "base_uri": "https://localhost:8080/",
          "height": 230
        }
      },
      "source": [
        "labels[\"breed\"]"
      ],
      "execution_count": 0,
      "outputs": [
        {
          "output_type": "execute_result",
          "data": {
            "text/plain": [
              "0                     boston_bull\n",
              "1                           dingo\n",
              "2                        pekinese\n",
              "3                        bluetick\n",
              "4                golden_retriever\n",
              "                   ...           \n",
              "10217                      borzoi\n",
              "10218              dandie_dinmont\n",
              "10219                    airedale\n",
              "10220          miniature_pinscher\n",
              "10221    chesapeake_bay_retriever\n",
              "Name: breed, Length: 10222, dtype: object"
            ]
          },
          "metadata": {
            "tags": []
          },
          "execution_count": 14
        }
      ]
    },
    {
      "cell_type": "code",
      "metadata": {
        "id": "9_EoStZCw-w9",
        "colab_type": "code",
        "colab": {}
      },
      "source": [
        "# Get the N most represented breeds\n",
        "def main_breeds(labelsRaw, numBreeds , allBreeds='TRUE'):\n",
        "    labels_freq_pd = itemfreq(labelsRaw[\"breed\"])\n",
        "    labels_freq_pd = labels_freq_pd[labels_freq_pd[:, 1].argsort()[::-1]]\n",
        "    \n",
        "    if allBreeds == 'FALSE':\n",
        "        main_labels = labels_freq_pd[:,0][0:numBreeds]\n",
        "    else: \n",
        "        main_labels = labels_freq_pd[:,0][:]\n",
        "        \n",
        "    labels_raw_np = labelsRaw[\"breed\"].as_matrix()\n",
        "    labels_raw_np = labels_raw_np.reshape(labels_raw_np.shape[0],1)\n",
        "    labels_filtered_index = np.where(labels_raw_np == main_labels)\n",
        "    return labels_filtered_index"
      ],
      "execution_count": 0,
      "outputs": []
    },
    {
      "cell_type": "code",
      "metadata": {
        "id": "yh50VNLxxW88",
        "colab_type": "code",
        "outputId": "c0d6cbbb-028f-44d5-ba33-17fd36518dcf",
        "colab": {
          "base_uri": "https://localhost:8080/",
          "height": 141
        }
      },
      "source": [
        "breeds = 10\n",
        "labels_filtered_index = main_breeds(labelsRaw = labels, numBreeds = breeds, allBreeds='FALSE')\n",
        "labels_filtered = labels.iloc[labels_filtered_index[0],:]\n",
        "train_filtered = train[labels_filtered_index[0],:,:,:]\n",
        "print('- Number of images remaining after selecting the {0} main breeds : {1}'.format(breeds, labels_filtered_index[0].shape))\n",
        "print('- The shape of train_filtered dataset is : {0}'.format(train_filtered.shape))"
      ],
      "execution_count": 0,
      "outputs": [
        {
          "output_type": "stream",
          "text": [
            "- Number of images remaining after selecting the 10 main breeds : (1141,)\n",
            "- The shape of train_filtered dataset is : (1141, 60, 60, 3)\n"
          ],
          "name": "stdout"
        },
        {
          "output_type": "stream",
          "text": [
            "/usr/local/lib/python3.6/dist-packages/ipykernel_launcher.py:2: DeprecationWarning: `itemfreq` is deprecated!\n",
            "`itemfreq` is deprecated and will be removed in a future version. Use instead `np.unique(..., return_counts=True)`\n",
            "  \n",
            "/usr/local/lib/python3.6/dist-packages/ipykernel_launcher.py:10: FutureWarning: Method .as_matrix will be removed in a future version. Use .values instead.\n",
            "  # Remove the CWD from sys.path while we load stuff.\n"
          ],
          "name": "stderr"
        }
      ]
    },
    {
      "cell_type": "code",
      "metadata": {
        "id": "EtnFBffLC81v",
        "colab_type": "code",
        "outputId": "1a3586b9-a569-42e5-89e4-fd4cf16195bc",
        "colab": {
          "base_uri": "https://localhost:8080/",
          "height": 70
        }
      },
      "source": [
        "# We select the labels from the N main breeds\n",
        "labels = labels_filtered[\"breed\"].as_matrix()\n",
        "labels = labels.reshape(labels.shape[0],1) #labels.shape[0] looks faster than using len(labels)\n",
        "labels.shape"
      ],
      "execution_count": 0,
      "outputs": [
        {
          "output_type": "stream",
          "text": [
            "/usr/local/lib/python3.6/dist-packages/ipykernel_launcher.py:1: FutureWarning: Method .as_matrix will be removed in a future version. Use .values instead.\n",
            "  \"\"\"Entry point for launching an IPython kernel.\n"
          ],
          "name": "stderr"
        },
        {
          "output_type": "execute_result",
          "data": {
            "text/plain": [
              "(1141, 1)"
            ]
          },
          "metadata": {
            "tags": []
          },
          "execution_count": 17
        }
      ]
    },
    {
      "cell_type": "code",
      "metadata": {
        "id": "XADeyxGrOhaH",
        "colab_type": "code",
        "colab": {}
      },
      "source": [
        "# Function to create one-hot labels\n",
        "def matrix_Bin(labels):\n",
        "    labels_bin=np.array([])\n",
        "\n",
        "    labels_name, labels0 = np.unique(labels, return_inverse=True)\n",
        "    labels0\n",
        "    \n",
        "    for _, i in enumerate(itemfreq(labels0)[:,0].astype(int)):\n",
        "        labels_bin0 = np.where(labels0 == itemfreq(labels0)[:,0][i], 1., 0.)\n",
        "        labels_bin0 = labels_bin0.reshape(1,labels_bin0.shape[0])\n",
        "\n",
        "        if (labels_bin.shape[0] == 0):\n",
        "            labels_bin = labels_bin0\n",
        "        else:\n",
        "            labels_bin = np.concatenate((labels_bin,labels_bin0 ),axis=0)\n",
        "\n",
        "    print(\"Nber SubVariables {0}\".format(itemfreq(labels0)[:,0].shape[0]))\n",
        "    labels_bin = labels_bin.transpose()\n",
        "    print(\"Shape : {0}\".format(labels_bin.shape))\n",
        "    \n",
        "    return labels_name, labels_bin"
      ],
      "execution_count": 0,
      "outputs": []
    },
    {
      "cell_type": "code",
      "metadata": {
        "id": "65JTptelOouX",
        "colab_type": "code",
        "outputId": "62e45dbb-b18b-464d-cd99-49e04a33e9b9",
        "colab": {
          "base_uri": "https://localhost:8080/",
          "height": 372
        }
      },
      "source": [
        "labels_name, labels_bin = matrix_Bin(labels = labels)\n",
        "labels_bin[0:9]"
      ],
      "execution_count": 0,
      "outputs": [
        {
          "output_type": "stream",
          "text": [
            "Nber SubVariables 10\n",
            "Shape : (1141, 10)\n"
          ],
          "name": "stdout"
        },
        {
          "output_type": "stream",
          "text": [
            "/usr/local/lib/python3.6/dist-packages/ipykernel_launcher.py:7: DeprecationWarning: `itemfreq` is deprecated!\n",
            "`itemfreq` is deprecated and will be removed in a future version. Use instead `np.unique(..., return_counts=True)`\n",
            "  import sys\n",
            "/usr/local/lib/python3.6/dist-packages/ipykernel_launcher.py:8: DeprecationWarning: `itemfreq` is deprecated!\n",
            "`itemfreq` is deprecated and will be removed in a future version. Use instead `np.unique(..., return_counts=True)`\n",
            "  \n",
            "/usr/local/lib/python3.6/dist-packages/ipykernel_launcher.py:16: DeprecationWarning: `itemfreq` is deprecated!\n",
            "`itemfreq` is deprecated and will be removed in a future version. Use instead `np.unique(..., return_counts=True)`\n",
            "  app.launch_new_instance()\n"
          ],
          "name": "stderr"
        },
        {
          "output_type": "execute_result",
          "data": {
            "text/plain": [
              "array([[0., 1., 0., 0., 0., 0., 0., 0., 0., 0.],\n",
              "       [0., 0., 0., 0., 0., 0., 0., 0., 1., 0.],\n",
              "       [0., 0., 0., 0., 0., 1., 0., 0., 0., 0.],\n",
              "       [0., 0., 0., 0., 0., 0., 0., 0., 0., 1.],\n",
              "       [0., 0., 0., 0., 0., 0., 0., 1., 0., 0.],\n",
              "       [0., 0., 0., 0., 0., 0., 0., 0., 1., 0.],\n",
              "       [0., 0., 0., 1., 0., 0., 0., 0., 0., 0.],\n",
              "       [0., 0., 0., 1., 0., 0., 0., 0., 0., 0.],\n",
              "       [0., 0., 0., 0., 0., 1., 0., 0., 0., 0.]])"
            ]
          },
          "metadata": {
            "tags": []
          },
          "execution_count": 19
        }
      ]
    },
    {
      "cell_type": "code",
      "metadata": {
        "id": "d7XnyfNVOpGf",
        "colab_type": "code",
        "outputId": "4dfc13ea-1abd-4bc8-b602-0cb2e6159054",
        "colab": {
          "base_uri": "https://localhost:8080/",
          "height": 194
        }
      },
      "source": [
        "for breed in range(len(labels_name)):\n",
        "   print('Breed {0} : {1}'.format(breed,labels_name[breed]))"
      ],
      "execution_count": 0,
      "outputs": [
        {
          "output_type": "stream",
          "text": [
            "Breed 0 : afghan_hound\n",
            "Breed 1 : basenji\n",
            "Breed 2 : bernese_mountain_dog\n",
            "Breed 3 : entlebucher\n",
            "Breed 4 : great_pyrenees\n",
            "Breed 5 : maltese_dog\n",
            "Breed 6 : pomeranian\n",
            "Breed 7 : samoyed\n",
            "Breed 8 : scottish_deerhound\n",
            "Breed 9 : shih-tzu\n"
          ],
          "name": "stdout"
        }
      ]
    },
    {
      "cell_type": "code",
      "metadata": {
        "id": "NCEjNf-ZOtme",
        "colab_type": "code",
        "outputId": "d9b4ecc0-b9c4-41c6-f5a8-a146c623035c",
        "colab": {
          "base_uri": "https://localhost:8080/",
          "height": 176
        }
      },
      "source": [
        "labels_cls = np.argmax(labels_bin, axis=1)\n",
        "labels[0:9]"
      ],
      "execution_count": 0,
      "outputs": [
        {
          "output_type": "execute_result",
          "data": {
            "text/plain": [
              "array([['basenji'],\n",
              "       ['scottish_deerhound'],\n",
              "       ['maltese_dog'],\n",
              "       ['shih-tzu'],\n",
              "       ['samoyed'],\n",
              "       ['scottish_deerhound'],\n",
              "       ['entlebucher'],\n",
              "       ['entlebucher'],\n",
              "       ['maltese_dog']], dtype=object)"
            ]
          },
          "metadata": {
            "tags": []
          },
          "execution_count": 21
        }
      ]
    },
    {
      "cell_type": "code",
      "metadata": {
        "id": "lJ_5kdoCOvxf",
        "colab_type": "code",
        "colab": {}
      },
      "source": [
        "num_validation = 0.30\n",
        "X_train, X_validation, y_train, y_validation = train_test_split(train_filtered, labels_bin, test_size=num_validation, random_state=6)"
      ],
      "execution_count": 0,
      "outputs": []
    },
    {
      "cell_type": "code",
      "metadata": {
        "id": "vgEyieKnO3G6",
        "colab_type": "code",
        "outputId": "2b281647-221a-4d21-dac3-334ca0042c8e",
        "colab": {
          "base_uri": "https://localhost:8080/",
          "height": 34
        }
      },
      "source": [
        "# split original data to train and test sets\n",
        "def train_test_creation(x, data, toPred): \n",
        "  indices = sample(range(data.shape[0]),int(x * data.shape[0])) \n",
        "  indices = np.sort(indices, axis=None) \n",
        "  \n",
        "  index = np.arange(data.shape[0]) \n",
        "  reverse_index = np.delete(index, indices,0)\n",
        "  \n",
        "  train_toUse = data[indices]\n",
        "  train_toPred = toPred[indices]\n",
        "  test_toUse = data[reverse_index]\n",
        "  test_toPred = toPred[reverse_index]\n",
        "\n",
        "  return train_toUse, train_toPred, test_toUse, test_toPred\n",
        "\n",
        "df_train_toUse, df_train_toPred, df_test_toUse, df_test_toPred = train_test_creation(0.7, train_filtered, labels_bin)\n",
        "\n",
        "df_validation_toPred_cls = np.argmax(y_validation, axis=1)\n",
        "df_validation_toPred_cls[0:9]"
      ],
      "execution_count": 0,
      "outputs": [
        {
          "output_type": "execute_result",
          "data": {
            "text/plain": [
              "array([6, 4, 7, 2, 6, 9, 1, 1, 8])"
            ]
          },
          "metadata": {
            "tags": []
          },
          "execution_count": 23
        }
      ]
    },
    {
      "cell_type": "code",
      "metadata": {
        "id": "mWITTat_NaZ5",
        "colab_type": "code",
        "colab": {}
      },
      "source": [
        "# The 100 pixels in each dimension.\n",
        "img_size = image_resize\n",
        "\n",
        "# Number of colour channels for the images: 3\n",
        "num_channels = 3\n",
        "\n",
        "# Images are stored in one-dimensional arrays of this length.\n",
        "img_size_flat = img_size * img_size\n",
        "\n",
        "# Image Shape\n",
        "img_shape = (img_size, img_size, num_channels)\n",
        "\n",
        "# Number of classes : 5 breeds\n",
        "num_classes = breeds\n",
        "\n",
        "def new_weights(shape):\n",
        "    return tf.Variable(tf.truncated_normal(shape, stddev=0.05))\n",
        "    #outputs random value from a truncated normal distribution\n",
        "\n",
        "def new_biases(length):\n",
        "    return tf.Variable(tf.constant(0.05, shape=[length]))\n",
        "    #outputs the constant value 0.05"
      ],
      "execution_count": 0,
      "outputs": []
    },
    {
      "cell_type": "code",
      "metadata": {
        "id": "-sQcL7HZNiE4",
        "colab_type": "code",
        "colab": {}
      },
      "source": [
        "# definte convolutional layer\n",
        "def conv_layer(input,              # The previous layer.\n",
        "                   num_input_channels, # Num. channels in prev. layer.\n",
        "                   filter_size,        # Width and height of each filter.\n",
        "                   num_filters,        # Number of filters.\n",
        "                   use_pooling=True,\n",
        "                   use_dropout=True):  # Use 2x2 max-pooling.\n",
        "\n",
        "    # Shape of the filter-weights for the convolution.\n",
        "    # This format is determined by the TensorFlow API.\n",
        "    shape = [filter_size, filter_size, num_input_channels, num_filters]\n",
        "\n",
        "    # Create new weights aka. filters with the given shape.\n",
        "    weights = new_weights(shape=shape)\n",
        "\n",
        "    # Create new biases, one for each filter.\n",
        "    biases = new_biases(length=num_filters)\n",
        "\n",
        "    # Create the TensorFlow operation for convolution.\n",
        "    # Note the strides are set to 1 in all dimensions.\n",
        "    # The first and last stride must always be 1,\n",
        "    # because the first is for the image-number and\n",
        "    # the last is for the input-channel.\n",
        "    # But e.g. strides=[1, 2, 2, 1] would mean that the filter\n",
        "    # is moved 2 pixels across the x- and y-axis of the image.\n",
        "    # The padding is set to 'SAME' which means the input image\n",
        "    # is padded with zeroes so the size of the output is the same.\n",
        "    layer = tf.nn.conv2d(input=input,\n",
        "                         filter=weights,\n",
        "                         strides=[1, 1, 1, 1],\n",
        "                         padding='SAME')\n",
        "\n",
        "    # Add the biases to the results of the convolution.\n",
        "    # A bias-value is added to each filter-channel.\n",
        "    layer += biases\n",
        "\n",
        "    # Use pooling to down-sample the image resolution?\n",
        "    if use_pooling:\n",
        "        # This is 2x2 max-pooling, which means that we\n",
        "        # consider 2x2 windows and select the largest value\n",
        "        # in each window. Then we move 2 pixels to the next window.\n",
        "        layer = tf.nn.max_pool(value=layer,\n",
        "                               ksize=[1, 2, 2, 1],\n",
        "                               strides=[1, 2, 2, 1],\n",
        "                               padding='SAME')\n",
        "\n",
        "    # Rectified Linear Unit (ReLU).\n",
        "    # It calculates max(x, 0) for each input pixel x.\n",
        "    # This adds some non-linearity to the formula and allows us\n",
        "    # to learn more complicated functions.\n",
        "    layer = tf.nn.relu(layer)\n",
        "    \n",
        "    if use_dropout:\n",
        "        layer = tf.nn.dropout(layer,keep_prob_conv)\n",
        "\n",
        "    # Note that ReLU is normally executed before the pooling,\n",
        "    # but since relu(max_pool(x)) == max_pool(relu(x)) we can\n",
        "    # save 75% of the relu-operations by max-pooling first.\n",
        "\n",
        "    # We return both the resulting layer and the filter-weights\n",
        "    # because we will plot the weights later.\n",
        "    return layer, weights"
      ],
      "execution_count": 0,
      "outputs": []
    },
    {
      "cell_type": "code",
      "metadata": {
        "id": "WDk0oLzhNnpI",
        "colab_type": "code",
        "colab": {}
      },
      "source": [
        "# definte flatten layer\n",
        "def flatten_layer(layer):\n",
        "    # Get the shape of the input layer.\n",
        "    layer_shape = layer.get_shape()\n",
        "\n",
        "    # The shape of the input layer is assumed to be:\n",
        "    # layer_shape == [num_images, img_height, img_width, num_channels]\n",
        "\n",
        "    # The number of features is: img_height * img_width * num_channels\n",
        "    # We can use a function from TensorFlow to calculate this.\n",
        "    num_features = layer_shape[1:4].num_elements()\n",
        "    \n",
        "    # Reshape the layer to [num_images, num_features].\n",
        "    # Note that we just set the size of the second dimension\n",
        "    # to num_features and the size of the first dimension to -1\n",
        "    # which means the size in that dimension is calculated\n",
        "    # so the total size of the tensor is unchanged from the reshaping.\n",
        "    layer_flat = tf.reshape(layer, [-1, num_features])\n",
        "\n",
        "    # The shape of the flattened layer is now:\n",
        "    # [num_images, img_height * img_width * num_channels]\n",
        "\n",
        "    # Return both the flattened layer and the number of features.\n",
        "    return layer_flat, num_features"
      ],
      "execution_count": 0,
      "outputs": []
    },
    {
      "cell_type": "code",
      "metadata": {
        "id": "RAThuPQMNv5g",
        "colab_type": "code",
        "colab": {}
      },
      "source": [
        "# define fully connected layer\n",
        "def fc_layer(input,          # The previous layer.\n",
        "                 num_inputs,     # Num. inputs from prev. layer.\n",
        "                 num_outputs,    # Num. outputs.\n",
        "                 use_relu=True,\n",
        "                 use_dropout=True): # Use Rectified Linear Unit (ReLU)?\n",
        "\n",
        "    # Create new weights and biases.\n",
        "    weights = new_weights(shape=[num_inputs, num_outputs])\n",
        "    biases = new_biases(length=num_outputs)\n",
        "\n",
        "    # Calculate the layer as the matrix multiplication of\n",
        "    # the input and weights, and then add the bias-values.\n",
        "    layer = tf.matmul(input, weights) + biases\n",
        "\n",
        "    # Use ReLU?\n",
        "    if use_relu:\n",
        "        layer = tf.nn.relu(layer)\n",
        "    \n",
        "    if use_dropout:\n",
        "        layer = tf.nn.dropout(layer,keep_prob_fc)\n",
        "        \n",
        "    return layer"
      ],
      "execution_count": 0,
      "outputs": []
    },
    {
      "cell_type": "code",
      "metadata": {
        "id": "DvtNALJtN3fO",
        "colab_type": "code",
        "colab": {}
      },
      "source": [
        "# setting up placeholder tensor\n",
        "x = tf.placeholder(tf.float32, shape=[None, img_size, img_size, num_channels], name='x')\n",
        "x_image = tf.reshape(x, [-1, img_size, img_size, num_channels]) #-1 put everything as 1 array\n",
        "y_true = tf.placeholder(tf.float32, shape=[None, num_classes], name='y_true')\n",
        "y_true_cls = tf.argmax(y_true, axis=1)\n",
        "keep_prob_fc=tf.placeholder(tf.float32)\n",
        "keep_prob_conv=tf.placeholder(tf.float32)"
      ],
      "execution_count": 0,
      "outputs": []
    },
    {
      "cell_type": "code",
      "metadata": {
        "id": "M09f1TSEN8zo",
        "colab_type": "code",
        "colab": {}
      },
      "source": [
        "# Convolutional Layer 1.\n",
        "filter_size1 = 5          # Convolution filters are 5 x 5 pixels.\n",
        "num_filters1 = 32         # There are 32 of these filters.\n",
        "\n",
        "\n",
        "# Convolutional Layer 2.\n",
        "filter_size2 = 4          # Convolution filters are 4 x 4 pixels.\n",
        "num_filters2 = 64      # There are 64 of these filters.\n",
        "\n",
        "\n",
        "# Convolutional Layer 3.\n",
        "filter_size3 = 3          # Convolution filters are 3 x 3 pixels.\n",
        "num_filters3 = 128      # There are 128 of these filters.\n",
        "\n",
        "\n",
        "# Fully-connected layer.\n",
        "fc_size = 500 \n",
        "\n",
        "layer_conv1, weights_conv1 = \\\n",
        "    conv_layer(input=x_image,\n",
        "                   num_input_channels=num_channels,\n",
        "                   filter_size=filter_size1,\n",
        "                   num_filters=num_filters1,\n",
        "                   use_pooling=True,\n",
        "                   use_dropout=False)\n",
        "    \n",
        "layer_conv2, weights_conv2 = \\\n",
        "    conv_layer(input=layer_conv1,\n",
        "                   num_input_channels=num_filters1,\n",
        "                   filter_size=filter_size2,\n",
        "                   num_filters=num_filters2,\n",
        "                   use_pooling=True,\n",
        "                   use_dropout=False)\n",
        "    \n",
        "layer_conv3, weights_conv3 = \\\n",
        "    conv_layer(input=layer_conv2,\n",
        "                   num_input_channels=num_filters2,\n",
        "                   filter_size=filter_size3,\n",
        "                   num_filters=num_filters3,\n",
        "                   use_pooling=True,\n",
        "                   use_dropout=True)\n",
        "\n",
        "layer_flat, num_features = flatten_layer(layer_conv3)\n",
        "\n",
        "#Train\n",
        "layer_fc1 = fc_layer(input=layer_flat,\n",
        "                         num_inputs=num_features,\n",
        "                         num_outputs=fc_size,\n",
        "                         use_relu=True,\n",
        "                         use_dropout=True)\n",
        "\n",
        "layer_fc2 = fc_layer(input=layer_fc1,\n",
        "                         num_inputs=fc_size,\n",
        "                         num_outputs=num_classes,\n",
        "                         use_relu=False,\n",
        "                         use_dropout=False)\n",
        "\n",
        "#Prediction\n",
        "y_pred = tf.nn.softmax(layer_fc2)\n",
        "y_pred_cls = tf.argmax(y_pred, axis=1)"
      ],
      "execution_count": 0,
      "outputs": []
    },
    {
      "cell_type": "code",
      "metadata": {
        "id": "NeUms3FZOGCA",
        "colab_type": "code",
        "outputId": "becbe41b-dee6-423d-a386-bcd188a94b31",
        "colab": {
          "base_uri": "https://localhost:8080/",
          "height": 178
        }
      },
      "source": [
        "# defining loss function to train the model\n",
        "cross_entropy = tf.nn.softmax_cross_entropy_with_logits(logits=layer_fc2, labels=y_true)\n",
        "cost = tf.reduce_mean(cross_entropy)\n",
        "optimizer = tf.train.AdamOptimizer(learning_rate=1e-4).minimize(cost)\n",
        "correct_prediction = tf.equal(y_pred_cls, y_true_cls)\n",
        "accuracy = tf.reduce_mean(tf.cast(correct_prediction, tf.float32))\n"
      ],
      "execution_count": 0,
      "outputs": [
        {
          "output_type": "stream",
          "text": [
            "WARNING:tensorflow:From <ipython-input-33-bc219e9f534c>:1: softmax_cross_entropy_with_logits (from tensorflow.python.ops.nn_ops) is deprecated and will be removed in a future version.\n",
            "Instructions for updating:\n",
            "\n",
            "Future major versions of TensorFlow will allow gradients to flow\n",
            "into the labels input on backprop by default.\n",
            "\n",
            "See `tf.nn.softmax_cross_entropy_with_logits_v2`.\n",
            "\n"
          ],
          "name": "stdout"
        }
      ]
    },
    {
      "cell_type": "code",
      "metadata": {
        "id": "SN3vwhRDOOgw",
        "colab_type": "code",
        "colab": {}
      },
      "source": [
        "# train the network\n",
        "session = tf.Session()\n",
        "def init_variables():\n",
        "   session.run(tf.global_variables_initializer())"
      ],
      "execution_count": 0,
      "outputs": []
    },
    {
      "cell_type": "code",
      "metadata": {
        "id": "cTPB2ab_OQvQ",
        "colab_type": "code",
        "colab": {}
      },
      "source": [
        "# creates a batch from a dataset\n",
        "# the batch is used to train the model\n",
        "\n",
        "batch_size = 50\n",
        "\n",
        "#function next_batch\n",
        "def next_batch(num, data, labels):\n",
        "    '''\n",
        "    Return a total of `num` random samples and labels. \n",
        "    '''\n",
        "    idx = np.arange(0 , len(data))\n",
        "    np.random.shuffle(idx)\n",
        "    idx = idx[:num]\n",
        "    data_shuffle = [data[i] for i in idx]\n",
        "    labels_shuffle = [labels[i] for i in idx]\n",
        "\n",
        "\n",
        "    return np.asarray(data_shuffle), np.asarray(labels_shuffle)"
      ],
      "execution_count": 0,
      "outputs": []
    },
    {
      "cell_type": "code",
      "metadata": {
        "id": "O299Icr2OaJA",
        "colab_type": "code",
        "colab": {}
      },
      "source": [
        "def optimize(num_iterations, X):\n",
        "    global total_iterations\n",
        "    \n",
        "    start_time = time.time()\n",
        "    \n",
        "    #array to plot\n",
        "    losses = {'train':[], 'validation':[]}\n",
        "    \n",
        "    for i in range(num_iterations):\n",
        "            total_iterations += 1\n",
        "            # Get a batch of training examples.\n",
        "            # x_batch now holds a batch of images and\n",
        "            # y_true_batch are the true labels for those images.\n",
        "            x_batch, y_true_batch = next_batch(batch_size, X_train, y_train)\n",
        "\n",
        "\n",
        "            # Put the batch into a dict with the proper names\n",
        "            # for placeholder variables in the TensorFlow graph.\n",
        "            feed_dict_train = {x: x_batch,\n",
        "                               y_true: y_true_batch,\n",
        "                               keep_prob_conv : 0.3,\n",
        "                               keep_prob_fc : 0.4}\n",
        "            feed_dict_validation = {x: X_validation,\n",
        "                               y_true: y_validation,\n",
        "                               keep_prob_conv : 1,\n",
        "                               keep_prob_fc : 1}\n",
        "            \n",
        "            # Run the optimizer using this batch of training data.\n",
        "            # TensorFlow assigns the variables in feed_dict_train\n",
        "            # to the placeholder variables and then runs the optimizer.\n",
        "            session.run(optimizer, feed_dict=feed_dict_train)\n",
        "            \n",
        "            acc_train = session.run(accuracy, feed_dict=feed_dict_train)\n",
        "            acc_validation = session.run(accuracy, feed_dict=feed_dict_validation)\n",
        "            losses['train'].append(acc_train)\n",
        "            losses['validation'].append(acc_validation)\n",
        "            \n",
        "            # Print status every X iterations.\n",
        "            if (total_iterations % X == 0) or (i ==(num_iterations -1)):\n",
        "            # Calculate the accuracy on the training-set.\n",
        "                                \n",
        "                msg = \"Iteration: {0:>6}, Training Accuracy: {1:>6.1%}, Validation Accuracy: {2:>6.1%}\"\n",
        "                print(msg.format(total_iterations, acc_train, acc_validation))\n",
        "                \n",
        "    \n",
        "    # Ending time.\n",
        "    end_time = time.time()\n",
        "\n",
        "\n",
        "    # Difference between start and end-times.\n",
        "    time_dif = end_time - start_time\n",
        "\n",
        "\n",
        "    # Print the time-usage.\n",
        "    print(\"Time usage: \" + str(timedelta(seconds=int(round(time_dif)))))\n",
        "    \n",
        "    plt.plot(losses['train'], label='Training loss')\n",
        "    plt.plot(losses['validation'], label='Validation loss')\n",
        "    plt.legend()\n",
        "    _ = plt.ylim()"
      ],
      "execution_count": 0,
      "outputs": []
    },
    {
      "cell_type": "code",
      "metadata": {
        "id": "uQ1meNxpOci4",
        "colab_type": "code",
        "outputId": "4202594c-6ba7-4470-98d0-742084af8bb7",
        "colab": {
          "base_uri": "https://localhost:8080/",
          "height": 531
        }
      },
      "source": [
        "init_variables()\n",
        "total_iterations = 0\n",
        "optimize(num_iterations=3500, X=250)"
      ],
      "execution_count": 0,
      "outputs": [
        {
          "output_type": "stream",
          "text": [
            "Iteration:    250, Training Accuracy:  24.0%, Validation Accuracy:  21.9%\n",
            "Iteration:    500, Training Accuracy:  30.0%, Validation Accuracy:  28.6%\n",
            "Iteration:    750, Training Accuracy:  54.0%, Validation Accuracy:  31.2%\n",
            "Iteration:   1000, Training Accuracy:  56.0%, Validation Accuracy:  34.1%\n",
            "Iteration:   1250, Training Accuracy:  56.0%, Validation Accuracy:  34.4%\n",
            "Iteration:   1500, Training Accuracy:  68.0%, Validation Accuracy:  35.3%\n",
            "Iteration:   1750, Training Accuracy:  60.0%, Validation Accuracy:  34.7%\n",
            "Iteration:   2000, Training Accuracy:  74.0%, Validation Accuracy:  33.5%\n",
            "Iteration:   2250, Training Accuracy:  90.0%, Validation Accuracy:  35.0%\n",
            "Iteration:   2500, Training Accuracy:  90.0%, Validation Accuracy:  34.7%\n",
            "Iteration:   2750, Training Accuracy:  84.0%, Validation Accuracy:  35.3%\n",
            "Iteration:   3000, Training Accuracy:  92.0%, Validation Accuracy:  34.1%\n",
            "Iteration:   3250, Training Accuracy:  88.0%, Validation Accuracy:  33.2%\n",
            "Iteration:   3500, Training Accuracy:  82.0%, Validation Accuracy:  34.4%\n",
            "Time usage: 0:04:52\n"
          ],
          "name": "stdout"
        },
        {
          "output_type": "display_data",
          "data": {
            "image/png": "[encoded data removed]",
            "text/plain": [
              "<Figure size 432x288 with 1 Axes>"
            ]
          },
          "metadata": {
            "tags": []
          }
        }
      ]
    },
    {
      "cell_type": "markdown",
      "metadata": {
        "id": "6unCfR3PQnZh",
        "colab_type": "text"
      },
      "source": [
        "The above model does not perform very well. It tends to overfit and isn't very good. The best validation accuracy was only 34.4%"
      ]
    },
    {
      "cell_type": "markdown",
      "metadata": {
        "id": "GJSBPpFxGF4S",
        "colab_type": "text"
      },
      "source": [
        "### Transfer Learning\n"
      ]
    },
    {
      "cell_type": "markdown",
      "metadata": {
        "id": "pYJ-r-OVbCAG",
        "colab_type": "text"
      },
      "source": [
        "Using VGG16 model's convolutional base to extract features from the dog images to run through the classifier"
      ]
    },
    {
      "cell_type": "code",
      "metadata": {
        "id": "l0idS9Ttp353",
        "colab_type": "code",
        "outputId": "936b5bb7-944c-40dc-8755-010424d560b7",
        "colab": {
          "base_uri": "https://localhost:8080/",
          "height": 81
        }
      },
      "source": [
        "%matplotlib inline\n",
        "import numpy as np\n",
        "import pandas as pd\n",
        "import datetime as dt\n",
        "import matplotlib.pyplot as plt\n",
        "from mpl_toolkits.axes_grid1 import ImageGrid\n",
        "from os import listdir, makedirs\n",
        "from os.path import join, exists, expanduser\n",
        "from tqdm import tqdm\n",
        "from sklearn.metrics import log_loss, accuracy_score\n",
        "from keras.preprocessing import image\n",
        "from keras.applications.vgg16 import VGG16\n",
        "from keras.applications.resnet50 import ResNet50\n",
        "from keras.applications import xception\n",
        "from keras.applications import inception_v3\n",
        "from keras.applications.vgg16 import preprocess_input, decode_predictions\n",
        "from sklearn.linear_model import LogisticRegression"
      ],
      "execution_count": 0,
      "outputs": [
        {
          "output_type": "stream",
          "text": [
            "Using TensorFlow backend.\n"
          ],
          "name": "stderr"
        },
        {
          "output_type": "display_data",
          "data": {
            "text/html": [
              "<p style=\"color: red;\">\n",
              "The default version of TensorFlow in Colab will soon switch to TensorFlow 2.x.<br>\n",
              "We recommend you <a href=\"https://www.tensorflow.org/guide/migrate\" target=\"_blank\">upgrade</a> now \n",
              "or ensure your notebook will continue to use TensorFlow 1.x via the <code>%tensorflow_version 1.x</code> magic:\n",
              "<a href=\"https://colab.research.google.com/notebooks/tensorflow_version.ipynb\" target=\"_blank\">more info</a>.</p>\n"
            ],
            "text/plain": [
              "<IPython.core.display.HTML object>"
            ]
          },
          "metadata": {
            "tags": []
          }
        }
      ]
    },
    {
      "cell_type": "code",
      "metadata": {
        "id": "quzKKGmzbSIQ",
        "colab_type": "code",
        "colab": {}
      },
      "source": [
        "train_dir = '/content/train/'\n",
        "test_dir = '/content/test/'"
      ],
      "execution_count": 0,
      "outputs": []
    },
    {
      "cell_type": "code",
      "metadata": {
        "id": "d5uOqylwlsq1",
        "colab_type": "code",
        "outputId": "03ddb4fe-957b-435d-9594-d0810ac5fec4",
        "colab": {
          "base_uri": "https://localhost:8080/",
          "height": 197
        }
      },
      "source": [
        "# reading in labels\n",
        "path = \"/content/drive/My Drive/CMPE 278-98 - Emerging Technologies/Homework/dog-breed-id/labels.csv\"\n",
        "labels = pd.read_csv(path)\n",
        "\n",
        "# selecting only the top 10 classes of breeds\n",
        "selected_breed_list = list(labels.groupby('breed').count().sort_values(by='id', ascending=False).head(10).index)\n",
        "labels = labels[labels['breed'].isin(selected_breed_list)]\n",
        "\n",
        "labels['id'] = labels['id'] + '.jpg'\n",
        "labels.head()"
      ],
      "execution_count": 0,
      "outputs": [
        {
          "output_type": "execute_result",
          "data": {
            "text/html": [
              "<div>\n",
              "<style scoped>\n",
              "    .dataframe tbody tr th:only-of-type {\n",
              "        vertical-align: middle;\n",
              "    }\n",
              "\n",
              "    .dataframe tbody tr th {\n",
              "        vertical-align: top;\n",
              "    }\n",
              "\n",
              "    .dataframe thead th {\n",
              "        text-align: right;\n",
              "    }\n",
              "</style>\n",
              "<table border=\"1\" class=\"dataframe\">\n",
              "  <thead>\n",
              "    <tr style=\"text-align: right;\">\n",
              "      <th></th>\n",
              "      <th>id</th>\n",
              "      <th>breed</th>\n",
              "    </tr>\n",
              "  </thead>\n",
              "  <tbody>\n",
              "    <tr>\n",
              "      <th>8</th>\n",
              "      <td>003df8b8a8b05244b1d920bb6cf451f9.jpg</td>\n",
              "      <td>basenji</td>\n",
              "    </tr>\n",
              "    <tr>\n",
              "      <th>9</th>\n",
              "      <td>0042188c895a2f14ef64a918ed9c7b64.jpg</td>\n",
              "      <td>scottish_deerhound</td>\n",
              "    </tr>\n",
              "    <tr>\n",
              "      <th>12</th>\n",
              "      <td>00693b8bc2470375cc744a6391d397ec.jpg</td>\n",
              "      <td>maltese_dog</td>\n",
              "    </tr>\n",
              "    <tr>\n",
              "      <th>57</th>\n",
              "      <td>0162b3e0144fb1d1ab82fbff3ace9938.jpg</td>\n",
              "      <td>shih-tzu</td>\n",
              "    </tr>\n",
              "    <tr>\n",
              "      <th>70</th>\n",
              "      <td>01b36cb1b80ab8c3a7d2b7128ad21bdc.jpg</td>\n",
              "      <td>samoyed</td>\n",
              "    </tr>\n",
              "  </tbody>\n",
              "</table>\n",
              "</div>"
            ],
            "text/plain": [
              "                                      id               breed\n",
              "8   003df8b8a8b05244b1d920bb6cf451f9.jpg             basenji\n",
              "9   0042188c895a2f14ef64a918ed9c7b64.jpg  scottish_deerhound\n",
              "12  00693b8bc2470375cc744a6391d397ec.jpg         maltese_dog\n",
              "57  0162b3e0144fb1d1ab82fbff3ace9938.jpg            shih-tzu\n",
              "70  01b36cb1b80ab8c3a7d2b7128ad21bdc.jpg             samoyed"
            ]
          },
          "metadata": {
            "tags": []
          },
          "execution_count": 3
        }
      ]
    },
    {
      "cell_type": "code",
      "metadata": {
        "id": "lGbfFP3Njk1g",
        "colab_type": "code",
        "outputId": "e19cd2db-016a-4df2-b949-58d87d9866cc",
        "colab": {
          "base_uri": "https://localhost:8080/",
          "height": 52
        }
      },
      "source": [
        "from tensorflow.keras.preprocessing.image import ImageDataGenerator\n",
        "BATCH = 32\n",
        "imagegen = ImageDataGenerator(\n",
        "    rescale=1./255,\n",
        "    zoom_range=.1,\n",
        "    width_shift_range=.1,\n",
        "    height_shift_range=.1,\n",
        "    rotation_range=30,\n",
        "    horizontal_flip=True,\n",
        "    validation_split=.2\n",
        "    )\n",
        "train_generator = imagegen.flow_from_dataframe(\n",
        "    dataframe=labels,\n",
        "    directory='/content/train',\n",
        "    x_col='id',\n",
        "    y_col='breed',\n",
        "    class_mode='categorical',\n",
        "    target_size=(224,224),\n",
        "    subset='training',\n",
        "    batch_size=BATCH)\n",
        "val_generator = imagegen.flow_from_dataframe(\n",
        "    dataframe=labels,\n",
        "    directory='/content/train',\n",
        "    x_col='id',\n",
        "    y_col='breed',\n",
        "    class_mode='categorical',\n",
        "    target_size=(224,224),\n",
        "    subset='validation',\n",
        "    batch_size=BATCH)"
      ],
      "execution_count": 0,
      "outputs": [
        {
          "output_type": "stream",
          "text": [
            "Found 913 validated image filenames belonging to 10 classes.\n",
            "Found 228 validated image filenames belonging to 10 classes.\n"
          ],
          "name": "stdout"
        }
      ]
    },
    {
      "cell_type": "code",
      "metadata": {
        "id": "R8Jn3yj-IDSr",
        "colab_type": "code",
        "outputId": "cb6aecf5-4f0e-453f-f7e8-233af2a97e08",
        "colab": {
          "base_uri": "https://localhost:8080/",
          "height": 34
        }
      },
      "source": [
        "train_generator"
      ],
      "execution_count": 0,
      "outputs": [
        {
          "output_type": "execute_result",
          "data": {
            "text/plain": [
              "<keras_preprocessing.image.dataframe_iterator.DataFrameIterator at 0x7f9087ab3f60>"
            ]
          },
          "metadata": {
            "tags": []
          },
          "execution_count": 5
        }
      ]
    },
    {
      "cell_type": "code",
      "metadata": {
        "id": "fs4z_HV-Hqo2",
        "colab_type": "code",
        "outputId": "221ab3d3-e138-470b-c843-3fa2a68b6b21",
        "colab": {
          "base_uri": "https://localhost:8080/",
          "height": 34
        }
      },
      "source": [
        "train = train_generator.image_data_generator\n",
        "train\n",
        "val = val_generator.image_data_generator\n",
        "val"
      ],
      "execution_count": 0,
      "outputs": [
        {
          "output_type": "execute_result",
          "data": {
            "text/plain": [
              "<tensorflow.python.keras.preprocessing.image.ImageDataGenerator at 0x7f9087ab3f28>"
            ]
          },
          "metadata": {
            "tags": []
          },
          "execution_count": 10
        }
      ]
    },
    {
      "cell_type": "code",
      "metadata": {
        "id": "tvGVmIPYozMR",
        "colab_type": "code",
        "colab": {}
      },
      "source": [
        "import keras\n",
        "resnet = keras.applications.ResNet50V2(include_top=False, weights='imagenet', input_shape=(224,224,3))\n",
        "resnet.trainable=False\n",
        "\n",
        "model = keras.Sequential([\n",
        "    resnet, \n",
        "    keras.layers.GlobalAveragePooling2D(),\n",
        "    keras.layers.Dense(512, activation='relu'),\n",
        "    keras.layers.Dense(10, activation='softmax')])\n",
        "\n",
        "model.compile(\n",
        "    optimizer='adam', \n",
        "    loss=keras.losses.categorical_crossentropy, \n",
        "    metrics=['accuracy'])"
      ],
      "execution_count": 0,
      "outputs": []
    },
    {
      "cell_type": "code",
      "metadata": {
        "id": "I11Xna09oLag",
        "colab_type": "code",
        "outputId": "53059549-22c4-40e8-d237-a03f510cfef2",
        "colab": {
          "base_uri": "https://localhost:8080/",
          "height": 1000
        }
      },
      "source": [
        "from keras.applications import VGG16\n",
        "\n",
        "base = VGG16(weights='imagenet',\n",
        "                  include_top=False,\n",
        "                  input_shape=(224, 224, 3))\n",
        "\n",
        "base.summary()"
      ],
      "execution_count": 0,
      "outputs": [
        {
          "output_type": "stream",
          "text": [
            "WARNING:tensorflow:From /usr/local/lib/python3.6/dist-packages/keras/backend/tensorflow_backend.py:66: The name tf.get_default_graph is deprecated. Please use tf.compat.v1.get_default_graph instead.\n",
            "\n",
            "WARNING:tensorflow:From /usr/local/lib/python3.6/dist-packages/keras/backend/tensorflow_backend.py:541: The name tf.placeholder is deprecated. Please use tf.compat.v1.placeholder instead.\n",
            "\n",
            "WARNING:tensorflow:From /usr/local/lib/python3.6/dist-packages/keras/backend/tensorflow_backend.py:4432: The name tf.random_uniform is deprecated. Please use tf.random.uniform instead.\n",
            "\n",
            "WARNING:tensorflow:From /usr/local/lib/python3.6/dist-packages/keras/backend/tensorflow_backend.py:4267: The name tf.nn.max_pool is deprecated. Please use tf.nn.max_pool2d instead.\n",
            "\n",
            "WARNING:tensorflow:From /usr/local/lib/python3.6/dist-packages/keras/backend/tensorflow_backend.py:190: The name tf.get_default_session is deprecated. Please use tf.compat.v1.get_default_session instead.\n",
            "\n",
            "WARNING:tensorflow:From /usr/local/lib/python3.6/dist-packages/keras/backend/tensorflow_backend.py:197: The name tf.ConfigProto is deprecated. Please use tf.compat.v1.ConfigProto instead.\n",
            "\n",
            "WARNING:tensorflow:From /usr/local/lib/python3.6/dist-packages/keras/backend/tensorflow_backend.py:203: The name tf.Session is deprecated. Please use tf.compat.v1.Session instead.\n",
            "\n",
            "WARNING:tensorflow:From /usr/local/lib/python3.6/dist-packages/keras/backend/tensorflow_backend.py:207: The name tf.global_variables is deprecated. Please use tf.compat.v1.global_variables instead.\n",
            "\n",
            "WARNING:tensorflow:From /usr/local/lib/python3.6/dist-packages/keras/backend/tensorflow_backend.py:216: The name tf.is_variable_initialized is deprecated. Please use tf.compat.v1.is_variable_initialized instead.\n",
            "\n",
            "WARNING:tensorflow:From /usr/local/lib/python3.6/dist-packages/keras/backend/tensorflow_backend.py:223: The name tf.variables_initializer is deprecated. Please use tf.compat.v1.variables_initializer instead.\n",
            "\n",
            "Model: \"vgg16\"\n",
            "_________________________________________________________________\n",
            "Layer (type)                 Output Shape              Param #   \n",
            "=================================================================\n",
            "input_1 (InputLayer)         (None, 224, 224, 3)       0         \n",
            "_________________________________________________________________\n",
            "block1_conv1 (Conv2D)        (None, 224, 224, 64)      1792      \n",
            "_________________________________________________________________\n",
            "block1_conv2 (Conv2D)        (None, 224, 224, 64)      36928     \n",
            "_________________________________________________________________\n",
            "block1_pool (MaxPooling2D)   (None, 112, 112, 64)      0         \n",
            "_________________________________________________________________\n",
            "block2_conv1 (Conv2D)        (None, 112, 112, 128)     73856     \n",
            "_________________________________________________________________\n",
            "block2_conv2 (Conv2D)        (None, 112, 112, 128)     147584    \n",
            "_________________________________________________________________\n",
            "block2_pool (MaxPooling2D)   (None, 56, 56, 128)       0         \n",
            "_________________________________________________________________\n",
            "block3_conv1 (Conv2D)        (None, 56, 56, 256)       295168    \n",
            "_________________________________________________________________\n",
            "block3_conv2 (Conv2D)        (None, 56, 56, 256)       590080    \n",
            "_________________________________________________________________\n",
            "block3_conv3 (Conv2D)        (None, 56, 56, 256)       590080    \n",
            "_________________________________________________________________\n",
            "block3_pool (MaxPooling2D)   (None, 28, 28, 256)       0         \n",
            "_________________________________________________________________\n",
            "block4_conv1 (Conv2D)        (None, 28, 28, 512)       1180160   \n",
            "_________________________________________________________________\n",
            "block4_conv2 (Conv2D)        (None, 28, 28, 512)       2359808   \n",
            "_________________________________________________________________\n",
            "block4_conv3 (Conv2D)        (None, 28, 28, 512)       2359808   \n",
            "_________________________________________________________________\n",
            "block4_pool (MaxPooling2D)   (None, 14, 14, 512)       0         \n",
            "_________________________________________________________________\n",
            "block5_conv1 (Conv2D)        (None, 14, 14, 512)       2359808   \n",
            "_________________________________________________________________\n",
            "block5_conv2 (Conv2D)        (None, 14, 14, 512)       2359808   \n",
            "_________________________________________________________________\n",
            "block5_conv3 (Conv2D)        (None, 14, 14, 512)       2359808   \n",
            "_________________________________________________________________\n",
            "block5_pool (MaxPooling2D)   (None, 7, 7, 512)         0         \n",
            "=================================================================\n",
            "Total params: 14,714,688\n",
            "Trainable params: 14,714,688\n",
            "Non-trainable params: 0\n",
            "_________________________________________________________________\n"
          ],
          "name": "stdout"
        }
      ]
    },
    {
      "cell_type": "code",
      "metadata": {
        "id": "vbjdijGsFZFZ",
        "colab_type": "code",
        "outputId": "afbc1456-b3cd-427b-b25e-f577b4b23c1d",
        "colab": {
          "base_uri": "https://localhost:8080/",
          "height": 107
        }
      },
      "source": [
        "from keras.optimizers import Adam\n",
        "\n",
        "\n",
        "opt = Adam(lr=0.001)\n",
        "base.compile(optimizer=opt, loss=keras.losses.categorical_crossentropy, metrics=['accuracy'])"
      ],
      "execution_count": 0,
      "outputs": [
        {
          "output_type": "stream",
          "text": [
            "WARNING:tensorflow:From /usr/local/lib/python3.6/dist-packages/keras/optimizers.py:793: The name tf.train.Optimizer is deprecated. Please use tf.compat.v1.train.Optimizer instead.\n",
            "\n",
            "WARNING:tensorflow:From /usr/local/lib/python3.6/dist-packages/keras/backend/tensorflow_backend.py:3576: The name tf.log is deprecated. Please use tf.math.log instead.\n",
            "\n"
          ],
          "name": "stdout"
        }
      ]
    },
    {
      "cell_type": "code",
      "metadata": {
        "id": "DslACO0dIh_z",
        "colab_type": "code",
        "outputId": "9aba0019-81f8-4c49-9477-3976580f6b2d",
        "colab": {
          "base_uri": "https://localhost:8080/",
          "height": 372
        }
      },
      "source": [
        "hist = model.fit_generator(steps_per_epoch=10,\n",
        "                           generator=train_generator, validation_data= val_generator, \n",
        "                           validation_steps=10,epochs=10, shuffle=True)"
      ],
      "execution_count": 0,
      "outputs": [
        {
          "output_type": "stream",
          "text": [
            "Epoch 1/10\n",
            "10/10 [==============================] - 14s 1s/step - loss: 1.5571 - acc: 0.4758 - val_loss: 0.5427 - val_acc: 0.8288\n",
            "Epoch 2/10\n",
            "10/10 [==============================] - 6s 568ms/step - loss: 0.8514 - acc: 0.7156 - val_loss: 0.6832 - val_acc: 0.8014\n",
            "Epoch 3/10\n",
            "10/10 [==============================] - 6s 565ms/step - loss: 0.6928 - acc: 0.7625 - val_loss: 0.6004 - val_acc: 0.8733\n",
            "Epoch 4/10\n",
            "10/10 [==============================] - 6s 585ms/step - loss: 0.5083 - acc: 0.8125 - val_loss: 0.6543 - val_acc: 0.8447\n",
            "Epoch 5/10\n",
            "10/10 [==============================] - 6s 563ms/step - loss: 0.4937 - acc: 0.8217 - val_loss: 0.4374 - val_acc: 0.8801\n",
            "Epoch 6/10\n",
            "10/10 [==============================] - 6s 576ms/step - loss: 0.4232 - acc: 0.8625 - val_loss: 0.5851 - val_acc: 0.8596\n",
            "Epoch 7/10\n",
            "10/10 [==============================] - 6s 628ms/step - loss: 0.3031 - acc: 0.8969 - val_loss: 0.4319 - val_acc: 0.8801\n",
            "Epoch 8/10\n",
            "10/10 [==============================] - 6s 585ms/step - loss: 0.3892 - acc: 0.8701 - val_loss: 0.5592 - val_acc: 0.8636\n",
            "Epoch 9/10\n",
            "10/10 [==============================] - 5s 545ms/step - loss: 0.4810 - acc: 0.8569 - val_loss: 0.8569 - val_acc: 0.8459\n",
            "Epoch 10/10\n",
            "10/10 [==============================] - 6s 571ms/step - loss: 0.3848 - acc: 0.8719 - val_loss: 0.5542 - val_acc: 0.8699\n"
          ],
          "name": "stdout"
        }
      ]
    },
    {
      "cell_type": "code",
      "metadata": {
        "id": "vpWwSPNMl2dE",
        "colab_type": "code",
        "outputId": "6eedcc72-4a37-44d5-946b-77d5dcf6b222",
        "colab": {
          "base_uri": "https://localhost:8080/",
          "height": 294
        }
      },
      "source": [
        "\n",
        "import matplotlib.pyplot as plt\n",
        "plt.plot(hist.history[\"acc\"])\n",
        "plt.plot(hist.history['val_acc'])\n",
        "plt.plot(hist.history['loss'])\n",
        "plt.plot(hist.history['val_loss'])\n",
        "plt.title(\"model accuracy\")\n",
        "plt.ylabel(\"Accuracy\")\n",
        "plt.xlabel(\"Epoch\")\n",
        "plt.legend([\"Accuracy\",\"Validation Accuracy\",\"loss\",\"Validation Loss\"])\n",
        "plt.show()"
      ],
      "execution_count": 0,
      "outputs": [
        {
          "output_type": "display_data",
          "data": {
            "image/png": "[encoded data removed]",
            "text/plain": [
              "<Figure size 432x288 with 1 Axes>"
            ]
          },
          "metadata": {
            "tags": []
          }
        }
      ]
    },
    {
      "cell_type": "code",
      "metadata": {
        "id": "fpmnqglQMtfU",
        "colab_type": "code",
        "colab": {}
      },
      "source": [
        ""
      ],
      "execution_count": 0,
      "outputs": []
    }
  ]
}